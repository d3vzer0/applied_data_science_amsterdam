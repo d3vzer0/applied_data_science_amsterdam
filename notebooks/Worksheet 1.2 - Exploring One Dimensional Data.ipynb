{
 "cells": [
  {
   "cell_type": "markdown",
   "metadata": {},
   "source": [
    "<img src=\"../img/logo_white_bkg_small.png\" align=\"right\" />\n",
    "\n",
    "# Worksheet 1.2:  Exploring One Dimensional Data\n",
    "This worksheet covers concepts covered in the first half of Module 1 - Exploratory Data Analysis in One Dimension.  It should take no more than 20-30 minutes to complete.  Please raise your hand if you get stuck.  \n",
    "\n",
    "There are many ways to accomplish the tasks that you are presented with, however you will find that by using the techniques covered in class, the exercises should be relatively simple. \n",
    "\n",
    "## Import the Libraries\n",
    "For this exercise, we will be using:\n",
    "* Pandas (http://pandas.pydata.org/pandas-docs/stable/)\n",
    "* Numpy (https://docs.scipy.org/doc/numpy/reference/)\n",
    "* Matplotlib (http://matplotlib.org/api/pyplot_api.html)\n"
   ]
  },
  {
   "cell_type": "code",
   "execution_count": null,
   "metadata": {},
   "outputs": [],
   "source": [
    "import pandas as pd\n",
    "import numpy as np\n",
    "import matplotlib.pyplot as plt\n",
    "plt.style.use('ggplot')\n",
    "%pylab inline"
   ]
  },
  {
   "cell_type": "markdown",
   "metadata": {},
   "source": [
    "## Exercise 1: Summarize the Data\n",
    "For this exercise, you are given a Series of random numbers creatively names `random_numbers`.  For the first exercise please do the following:\n",
    "\n",
    "1.  Remove all the numbers less than 10\n",
    "2.  Sort the series\n",
    "3.  Calculate the Tukey 5 number summary for this dataset\n",
    "4.  Count the number of even and odd numbers\n",
    "5.  Find the five largest and 5 smallest numbers in the series"
   ]
  },
  {
   "cell_type": "code",
   "execution_count": null,
   "metadata": {},
   "outputs": [],
   "source": [
    "#Generate a series of random numbers between 1 and 100. \n",
    "random_numbers = pd.Series( np.random.randint(1, 100, 50) )"
   ]
  },
  {
   "cell_type": "code",
   "execution_count": null,
   "metadata": {},
   "outputs": [],
   "source": [
    "# Your code here... \n",
    "\n",
    "#Filter the Series\n",
    "\n",
    "#Sort the Series\n",
    "\n",
    "#Calculate the Tukey 5 Number Summary\n",
    "\n",
    "#Count the number of even and odd numbers\n",
    "\n",
    "#Find the five largest and smallest numbers\n"
   ]
  },
  {
   "cell_type": "markdown",
   "metadata": {},
   "source": [
    "## Exercise 2: \n",
    "Using the random number Series create a histogram with 8 bins."
   ]
  },
  {
   "cell_type": "code",
   "execution_count": null,
   "metadata": {},
   "outputs": [],
   "source": []
  },
  {
   "cell_type": "markdown",
   "metadata": {},
   "source": [
    "## Exercise 3:\n",
    "You have been given a list of US phone numbers.  The area code is the first three digits.  Your task is to produce a summary of how many times each area code appears in the list. To do this you will need to:\n",
    "1. Extract the area code from each phone number\n",
    "2. Count the unique occurances."
   ]
  },
  {
   "cell_type": "code",
   "execution_count": null,
   "metadata": {},
   "outputs": [],
   "source": [
    "phone_numbers = [\n",
    "'(833) 759-6854',\n",
    "'(811) 268-9951',\n",
    "'(855) 449-4648',\n",
    "'(833) 212-2929',\n",
    "'(833) 893-7475',\n",
    "'(822) 346-3086',\n",
    "'(844) 259-9074',\n",
    "'(855) 975-8945',\n",
    "'(811) 385-8515',\n",
    "'(811) 523-5090',\n",
    "'(844) 593-5677',\n",
    "'(833) 534-5793',\n",
    "'(899) 898-3043',\n",
    "'(833) 662-7621',\n",
    "'(899) 146-8244',\n",
    "'(822) 793-4965',\n",
    "'(822) 641-7853',\n",
    "'(833) 153-7848',\n",
    "'(811) 958-2930',\n",
    "'(822) 332-3070',\n",
    "'(833) 223-1776',\n",
    "'(811) 397-1451',\n",
    "'(844) 096-0377',\n",
    "'(822) 000-0717',\n",
    "'(899) 311-1880']"
   ]
  },
  {
   "cell_type": "code",
   "execution_count": null,
   "metadata": {},
   "outputs": [],
   "source": [
    "# Your code here... \n"
   ]
  }
 ],
 "metadata": {
  "kernelspec": {
   "display_name": "Python 3",
   "language": "python",
   "name": "python3"
  },
  "language_info": {
   "codemirror_mode": {
    "name": "ipython",
    "version": 3
   },
   "file_extension": ".py",
   "mimetype": "text/x-python",
   "name": "python",
   "nbconvert_exporter": "python",
   "pygments_lexer": "ipython3",
   "version": "3.6.5"
  }
 },
 "nbformat": 4,
 "nbformat_minor": 1
}
