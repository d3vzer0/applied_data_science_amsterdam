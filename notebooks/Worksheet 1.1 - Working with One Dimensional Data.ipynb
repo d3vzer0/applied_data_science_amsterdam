{
 "cells": [
  {
   "cell_type": "markdown",
   "metadata": {},
   "source": [
    "<img src=\"../img/logo_white_bkg_small.png\" align=\"right\" />\n",
    "\n",
    "\n",
    "# Worksheet 1.1:  Working with One Dimensional Data\n",
    "This worksheet covers concepts covered in the first half of Module 1 - Exploratory Data Analysis in One Dimension.  It should take no more than 20-30 minutes to complete.  Please raise your hand if you get stuck.  \n",
    "\n",
    "There are many ways to accomplish the tasks that you are presented with, however you will find that by using the techniques covered in class, the exercises should be relatively simple. \n",
    "\n",
    "## Import the Libraries\n",
    "For this exercise, we will be using:\n",
    "* Pandas (http://pandas.pydata.org/pandas-docs/stable/)\n",
    "* Numpy (https://docs.scipy.org/doc/numpy/reference/)\n",
    "* Matplotlib (http://matplotlib.org/api/pyplot_api.html)\n"
   ]
  },
  {
   "cell_type": "code",
   "execution_count": 2,
   "metadata": {
    "ExecuteTime": {
     "end_time": "2018-11-26T08:56:40.494710Z",
     "start_time": "2018-11-26T08:56:37.435267Z"
    }
   },
   "outputs": [],
   "source": [
    "import pandas as pd\n",
    "import numpy as np\n",
    "import matplotlib.pyplot as plt\n",
    "from ipaddress import ip_address"
   ]
  },
  {
   "cell_type": "markdown",
   "metadata": {},
   "source": [
    "## Exercise 1:  Splitting and Filtering a Series\n",
    "\n",
    "In this exercise, you are given a list of email addresses called `emails`.  Your goal is to find the email accounts from domains that end in `.edu`.  To accomplish this, you will need to:\n",
    "1. Filter the series to remove the emails that do not end in .edu\n",
    "2. Extract the accounts. \n",
    "\n",
    "If you get stuck, refer to the documentation for Pandas string manipulation (http://pandas.pydata.org/pandas-docs/stable/text.html) or the slides.  Note that there are various functions to accomplish this task."
   ]
  },
  {
   "cell_type": "code",
   "execution_count": 3,
   "metadata": {
    "ExecuteTime": {
     "end_time": "2018-11-26T08:57:13.222765Z",
     "start_time": "2018-11-26T08:57:13.219216Z"
    }
   },
   "outputs": [],
   "source": [
    "emails = ['alawrence0@prlog.org',\n",
    "'blynch1@businessweek.com',\n",
    "'mdixon2@cmu.edu',\n",
    "'rvasquez3@1688.com',\n",
    "'astone4@creativecommons.org',\n",
    "'mcarter5@chicagotribune.com',\n",
    "'dcole6@vinaora.com',\n",
    "'kpeterson7@topsy.com',\n",
    "'ewebb8@cnet.com',\n",
    "'jtaylor9@google.ru',\n",
    "'ecarra@buzzfeed.com',\n",
    "'jjonesb@arizona.edu',\n",
    "'jbowmanc@disqus.com',\n",
    "'eduardo_sanchezd@npr.org',\n",
    "'emooree@prweb.com',\n",
    "'eberryf@brandeis.edu',\n",
    "'sgardnerh@wikipedia.org',\n",
    "'balvarezi@delicious.com',\n",
    "'blewisj@privacy.gov.au']"
   ]
  },
  {
   "cell_type": "code",
   "execution_count": null,
   "metadata": {},
   "outputs": [],
   "source": [
    "#Your code here...\n"
   ]
  },
  {
   "cell_type": "markdown",
   "metadata": {},
   "source": [
    "## Exercise 2:  Applying a Function\n",
    "\n",
    "In this exercise you are given a list of weights in pounds and a function to convert the measures into kilograms.  For this exercise, ***apply*** the conversion function to the original series and convert the measures into kilograms."
   ]
  },
  {
   "cell_type": "code",
   "execution_count": null,
   "metadata": {},
   "outputs": [],
   "source": [
    "poundsToKilograms = lambda x: x * 0.45359237\n",
    "weights = [31.09, 46.48, 24.0, 39.99, 19.33, 39.61, 40.91, 52.24, 30.77, 17.23, 34.87 ]"
   ]
  },
  {
   "cell_type": "code",
   "execution_count": null,
   "metadata": {},
   "outputs": [],
   "source": [
    "# Your code here...\n"
   ]
  },
  {
   "cell_type": "markdown",
   "metadata": {},
   "source": [
    "## Exercise 3: Putting it all together\n",
    "You are given a Series of IP Addresses and the goal is to limit this data to private IP addresses.  Python has an `ipaddress` module which provides the capability to create, manipulate and operate on IPv4 and IPv6 addresses and networks.  Complete documentation is available here: https://docs.python.org/3/library/ipaddress.html.  \n",
    "\n",
    "Here are some examples of how you might use this module:\n",
    "\n",
    "```python\n",
    "import ipaddress\n",
    "myIP = ipaddress.ip_address( '192.168.0.1' )\n",
    "myNetwork = ipaddress.ip_network( '192.168.0.0/28' )\n",
    "\n",
    "#Check membership in network\n",
    "if myIP in myNetwork:  #This works\n",
    "    print( \"Yay!\" )\n",
    "\n",
    "#Loop through CIDR blocks\n",
    "for ip in myNetwork:\n",
    "    print( ip )\n",
    "\n",
    "192.168.0.0\n",
    "192.168.0.1\n",
    "…\n",
    "…\n",
    "192.168.0.13\n",
    "192.168.0.14\n",
    "192.168.0.15\n",
    "\n",
    "#Testing to see if an IP is private\n",
    "if myIP.is_private:\n",
    "    print( \"This IP is private\" )\n",
    "else:\n",
    "    print( \"Routable IP\" )\n",
    "\n",
    "```\n",
    "\n",
    "1.  First, write a function which takes an IP address and returns true if the IP is private, false if it is public.  HINT:  use the ```ipaddress``` module. \n",
    "2.  Next, use this to create a Series of true/false values in the same sequence as your original Series.\n",
    "3.  Finally, use this to filter out the original Series so that it contains only private IP addresses."
   ]
  },
  {
   "cell_type": "code",
   "execution_count": null,
   "metadata": {},
   "outputs": [],
   "source": [
    "hosts = [ '192.168.1.2', '10.10.10.2', '172.143.23.34', '34.34.35.34', '172.15.0.1', '172.17.0.1']"
   ]
  },
  {
   "cell_type": "code",
   "execution_count": null,
   "metadata": {},
   "outputs": [],
   "source": [
    "#Your code here... \n"
   ]
  }
 ],
 "metadata": {
  "kernelspec": {
   "display_name": "Python 3",
   "language": "python",
   "name": "python3"
  },
  "language_info": {
   "codemirror_mode": {
    "name": "ipython",
    "version": 3
   },
   "file_extension": ".py",
   "mimetype": "text/x-python",
   "name": "python",
   "nbconvert_exporter": "python",
   "pygments_lexer": "ipython3",
   "version": "3.6.7"
  },
  "toc": {
   "base_numbering": 1,
   "nav_menu": {},
   "number_sections": false,
   "sideBar": false,
   "skip_h1_title": false,
   "title_cell": "Table of Contents",
   "title_sidebar": "Contents",
   "toc_cell": false,
   "toc_position": {},
   "toc_section_display": false,
   "toc_window_display": false
  },
  "varInspector": {
   "cols": {
    "lenName": 16,
    "lenType": 16,
    "lenVar": 40
   },
   "kernels_config": {
    "python": {
     "delete_cmd_postfix": "",
     "delete_cmd_prefix": "del ",
     "library": "var_list.py",
     "varRefreshCmd": "print(var_dic_list())"
    },
    "r": {
     "delete_cmd_postfix": ") ",
     "delete_cmd_prefix": "rm(",
     "library": "var_list.r",
     "varRefreshCmd": "cat(var_dic_list()) "
    }
   },
   "types_to_exclude": [
    "module",
    "function",
    "builtin_function_or_method",
    "instance",
    "_Feature"
   ],
   "window_display": false
  }
 },
 "nbformat": 4,
 "nbformat_minor": 1
}
