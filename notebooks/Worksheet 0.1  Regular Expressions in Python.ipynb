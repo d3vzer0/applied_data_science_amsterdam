{
 "cells": [
  {
   "cell_type": "markdown",
   "metadata": {},
   "source": [
    "<img src=\"../img/logo_white_bkg_small.png\" align=\"right\" />\n",
    "\n",
    "\n",
    "# Worksheet 0.1:  Regular Expressions in Python\n",
    "This worksheet covers concepts covered in the first half of Module 0 - Regular Expressions in Python.  It should take no more than 20-30 minutes to complete.  Please raise your hand if you get stuck.  \n",
    "\n",
    "There are many ways to accomplish the tasks that you are presented with, however you will find that by using the techniques covered in class, the exercises should be relatively simple. \n",
    "\n",
    "First run the cell below to import the `re` module. "
   ]
  },
  {
   "cell_type": "code",
   "execution_count": null,
   "metadata": {
    "ExecuteTime": {
     "end_time": "2019-02-18T13:15:30.104370Z",
     "start_time": "2019-02-18T13:15:30.101600Z"
    }
   },
   "outputs": [],
   "source": [
    "import re"
   ]
  },
  {
   "cell_type": "markdown",
   "metadata": {},
   "source": [
    "## Exercise 1: Find and Extract Mentions\n",
    "The code below reads a collection of Elon Musk's tweets.  In this exercise, you are to use regex to find and extract all the mentions in his tweets.  If you aren't familiar with Twitter, mentions are when a user mentions another user in a tweet.  The other user's account is preceded with the `@`.   So if steve wants to mention bob, the tweet might look like this:\n",
    "\n",
    "```\n",
    "My best friend @bob123 and I got together for dinner last night\n",
    "```\n",
    "\n",
    "For this exercise, iterate through the list of tweets, extract the mentions and output to the screen."
   ]
  },
  {
   "cell_type": "code",
   "execution_count": null,
   "metadata": {
    "ExecuteTime": {
     "end_time": "2019-02-19T01:51:15.152013Z",
     "start_time": "2019-02-19T01:51:15.139044Z"
    }
   },
   "outputs": [],
   "source": [
    "#Run this code first...\n",
    "\n",
    "import csv\n",
    "\n",
    "tweets = []\n",
    "with open('../data/elonmusk_tweets.csv') as csv_file:\n",
    "    csv_reader = csv.reader(csv_file, delimiter=',')\n",
    "    line_count = 0\n",
    "    for row in csv_reader:\n",
    "        if line_count == 0:\n",
    "            line_count += 1\n",
    "            continue\n",
    "        else:\n",
    "            tweets.append(row[2])"
   ]
  },
  {
   "cell_type": "code",
   "execution_count": null,
   "metadata": {
    "ExecuteTime": {
     "end_time": "2019-02-20T05:04:22.707614Z",
     "start_time": "2019-02-20T05:04:22.705202Z"
    }
   },
   "outputs": [],
   "source": [
    "# Your code here...\n",
    "    "
   ]
  },
  {
   "cell_type": "markdown",
   "metadata": {},
   "source": [
    "## Exercise 2:  Extracting Key Value Pairs from Syslog Data\n",
    "In this example you will be given a line from a syslog data file. \n",
    "\n",
    "```\n",
    "<86>1 2015-08-05T21:58:59.693Z 192.168.2.132 SecureAuth0 23108 ID52020 [SecureAuth@27389 UserAgent=\"Mozilla/5.0 (Windows NT 6.1; WOW64; Trident/7.0; rv:11.0) like Gecko\" UserHostAddress=\"192.168.2.132\" BrowserSession=\"0gvhdi5udjuqtweprbgoxilc\" Realm=\"SecureAuth0\" Appliance=\"secureauthqa.gosecureauth.com\" Company=\"SecureAuth Corporation\" UserID=\"Tester2\" PEN=\"27389\" HostName=\"192.168.2.132\" Category=\"AUDIT\" Priority=\"4\"] Found the user for retrieving user's profile\n",
    "```\n",
    "\n",
    "The line contains key/value pairs in between the brackets.  In this exercise, use a regex to extract the key/value pairs and store them into a python dictionary.  Output the results to the screen."
   ]
  },
  {
   "cell_type": "code",
   "execution_count": null,
   "metadata": {
    "ExecuteTime": {
     "end_time": "2019-02-19T02:38:33.313832Z",
     "start_time": "2019-02-19T02:38:33.311052Z"
    }
   },
   "outputs": [],
   "source": [
    "syslog_data = \"\"\"<86>1 2015-08-05T21:58:59.693Z 192.168.2.132 SecureAuth0 23108 ID52020 [SecureAuth@27389 UserAgent=\"Mozilla/5.0 (Windows NT 6.1; WOW64; Trident/7.0; rv:11.0) like Gecko\" UserHostAddress=\"192.168.2.132\" BrowserSession=\"0gvhdi5udjuqtweprbgoxilc\" Realm=\"SecureAuth0\" Appliance=\"secureauthqa.gosecureauth.com\" Company=\"SecureAuth Corporation\" UserID=\"Tester2\" PEN=\"27389\" HostName=\"192.168.2.132\" Category=\"AUDIT\" Priority=\"4\"] Found the user for retrieving user's profile\"\"\""
   ]
  },
  {
   "cell_type": "code",
   "execution_count": null,
   "metadata": {
    "ExecuteTime": {
     "end_time": "2019-02-19T02:42:29.121780Z",
     "start_time": "2019-02-19T02:42:29.115301Z"
    }
   },
   "outputs": [],
   "source": [
    "# Your code here...\n"
   ]
  },
  {
   "cell_type": "markdown",
   "metadata": {},
   "source": [
    "## Exercise 3:  Regex to Extract Data\n",
    "In the example below you are given a series of URLs, some of which are facebook URLs.  Facebook URLs contain a profileID as shown in the example below:\n",
    "```\n",
    "http://www.facebook.com/home.php?#!/profile.php?id=100000926596946&ref=profile\n",
    "```\n",
    "In this exercise, you will use a regex to extract the profile id from each facebook url and output it to the screen.  Pay careful attention that your regex is only extracting the ids from properly formatted Facebook URLs.\n"
   ]
  },
  {
   "cell_type": "code",
   "execution_count": null,
   "metadata": {
    "ExecuteTime": {
     "end_time": "2019-02-20T04:13:55.202215Z",
     "start_time": "2019-02-20T04:13:55.196006Z"
    }
   },
   "outputs": [],
   "source": [
    "urls = [\n",
    "'http://www.facebook.com/madzLuvzLakers?ref=profile',\n",
    "'http://www.facebook.com/home.php?#!/profile.php?id=100000926596946&ref=profile',\n",
    "'http://andweleboyce.wordpress.com',\n",
    "'http://www.MrKooman.com',\n",
    "'http://www.inoventdesign.com',\n",
    "'http://www.myspace.com/2econdnature',\n",
    "'http://www.facebook.com/profile.php?id=514186015&ref=profile#!/profile.php?id=514186015&ref=ts',\n",
    "'http://www.carlsjr.com',\n",
    "'http://Mynameisboomquiesha.blogspot.com',\n",
    "'http://WWW.twitter.com/rudeboysviXXXen',\n",
    "'http://www.myspace.com/sarina_is_da_bomb',\n",
    "'http://www.myspace.com/angelovalenteam',\n",
    "'http://Facebook.com/ChurchBoy31',\n",
    "'http://http://www.facebook.com/?ref=home#!/profile.php?id=506234142&ref=profile',\n",
    "'http://www.grapevinemills.com',\n",
    "'http://accordingtowill.blogspot.com/',\n",
    "'http://www.facebook.com/TheHumanHighlightFilm',\n",
    "'http://www.youtube.com/user/bigfun7997',\n",
    "'http://soundcloud.com/dj-wiky',\n",
    "'http://justjustinb.com',\n",
    "'http://facebook.com/wiz.tima',\n",
    "'http://www.facebook.com/people/Teejay-Patrick/100000667803483',\n",
    "'http://www.aficionados.mx',\n",
    "'http://www.facebook.com/RobertTheGreat305',\n",
    "'http://www.fxrivera.com',\n",
    "'http://facebook.com/AnnaRoseDuterte',\n",
    "'http://www.facebook.com/home.php#/profile.php?id=1707568551&ref=name',\n",
    "'http://www.facebook.com/home.php?#/profile.php?id=38403445&ref=name',\n",
    "'http://ring14.net',\n",
    "'http://www.facebook.com/almaherself',\n",
    "'http://massm3lo.com',\n",
    "'http://www.facebook.com/#!/profile.php?ref=profile&id=5254679',\n",
    "'http://www.facebook.com/#!/profile^php?ref=profile&id=0000000000000',\n",
    "'http://myspace.com/robinsworld',\n",
    "'http://twitpic.com/photos/EmaYorkOfficial',\n",
    "'http://www.twitter.com/golden1ne',\n",
    "'http://www.twitter.com/golden1ne/profile.php?id=987654321',\n",
    "'http://www.myspace.com/ericdmartinezx',\n",
    "'http://www.facebook.com/profile.php?id=1060743307&ref=profile',\n",
    "'http://www.myspace.com/babiimiinaj',\n",
    "'http://myspace.com/freezeakavictornuman',\n",
    "'http://motherjones.com',\n",
    "'http://www.facebook.com/#!/profile.php?id=702012065',\n",
    "'http://www.santotzin.com',\n",
    "'http://www.gihul-entertainment.com',\n",
    "'http://www.myspace.com/polyesterthesaint',\n",
    "'http://www.facebook.com/deejayever',\n",
    "'http://www.fab5entertainment.com']"
   ]
  },
  {
   "cell_type": "code",
   "execution_count": null,
   "metadata": {
    "ExecuteTime": {
     "end_time": "2019-02-20T04:16:38.568719Z",
     "start_time": "2019-02-20T04:16:38.564249Z"
    }
   },
   "outputs": [],
   "source": [
    "# Your code here...\n"
   ]
  },
  {
   "cell_type": "markdown",
   "metadata": {},
   "source": [
    "## Exercise 4:  Cleaning Data\n",
    "In this example you will be given a list of dates in the format below.  \n",
    "```\n",
    "mm/dd/yyyy\n",
    "```\n",
    "Use regex and `re.sub()` to reformat the date as shown below:\n",
    "```\n",
    "yyyy-mm-dd\n",
    "```\n",
    "\n",
    "**Hint:  Be sure to use raw strings in python so that backreferences are interpreted correctly.**"
   ]
  },
  {
   "cell_type": "code",
   "execution_count": null,
   "metadata": {
    "ExecuteTime": {
     "end_time": "2019-02-20T04:58:44.222795Z",
     "start_time": "2019-02-20T04:58:44.219875Z"
    }
   },
   "outputs": [],
   "source": [
    "dates = ['07/04/2018',\n",
    "'12/25/2018',\n",
    "'10/27/2018',\n",
    "'06/16/2018',\n",
    "'05/31/2018',\n",
    "'11/15/2018',\n",
    "'07/15/2018',\n",
    "'04/19/2018',\n",
    "'01/18/2019',\n",
    "'07/19/2018']"
   ]
  },
  {
   "cell_type": "code",
   "execution_count": null,
   "metadata": {
    "ExecuteTime": {
     "end_time": "2019-02-20T05:02:57.312069Z",
     "start_time": "2019-02-20T05:02:57.307620Z"
    }
   },
   "outputs": [],
   "source": [
    "# Your code here...\n"
   ]
  }
 ],
 "metadata": {
  "kernelspec": {
   "display_name": "Python 3",
   "language": "python",
   "name": "python3"
  },
  "language_info": {
   "codemirror_mode": {
    "name": "ipython",
    "version": 3
   },
   "file_extension": ".py",
   "mimetype": "text/x-python",
   "name": "python",
   "nbconvert_exporter": "python",
   "pygments_lexer": "ipython3",
   "version": "3.7.2"
  }
 },
 "nbformat": 4,
 "nbformat_minor": 2
}
