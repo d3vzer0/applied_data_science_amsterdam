{
 "cells": [
  {
   "cell_type": "markdown",
   "metadata": {},
   "source": [
    "<img src=\"../img/logo_white_bkg_small.png\" align=\"right\" />\n",
    "\n",
    "# PyDrill Demonstration\n",
    "This notebook demonstrates how to use the PyDrill module to connect to Apache Drill and query data. The complete documentation for PyDrill can be found at http://pydrill.readthedocs.io\n",
    "\n",
    "The essential steps are:\n",
    "1.  Import the module\n",
    "2.  Open a connection to Drill\n",
    "3.  Execute a query\n",
    "4.  Do something with the results. \n",
    "\n",
    "You will first need to install PyDrill.  This can be done by opening a terminal and typing:\n",
    "```python\n",
    "pip install pydrill\n",
    "```\n",
    "## Step 1:  Import the PyDrill module\n",
    "After you've done this, you will be able to import the PyDrill module."
   ]
  },
  {
   "cell_type": "code",
   "execution_count": null,
   "metadata": {
    "collapsed": true
   },
   "outputs": [],
   "source": [
    "from pydrill.client import PyDrill\n",
    "import pandas as pd\n",
    "import matplotlib.pyplot as plt\n",
    "%matplotlib inline\n",
    "plt.style.use('ggplot')"
   ]
  },
  {
   "cell_type": "markdown",
   "metadata": {},
   "source": [
    "## Step 2:  Open a connection to Drill\n",
    "The next step is to open a connection to Drill.  Once you've opened the connection, you will want to verify that the connection was successfully opened before executing any queries.  PyDrill includes an `is_active()` method for this purpose."
   ]
  },
  {
   "cell_type": "code",
   "execution_count": null,
   "metadata": {},
   "outputs": [],
   "source": [
    "#Open a connection to Drill\n",
    "drill = PyDrill(host='localhost', port=8047)\n",
    "\n",
    "#Verify the connection is active, throw an error if not.\n",
    "if not drill.is_active():\n",
    "    raise ImproperlyConfigured('Please run Drill first')"
   ]
  },
  {
   "cell_type": "markdown",
   "metadata": {},
   "source": [
    "## Step 3: Execute a query and get the results\n",
    "The next and final step is to execute a query in Drill.  When you call the `.query()` method, PyDrill returns an iterable object from which you can extract the rows of your results.  You can also get PyDrill to return a pandas DataFrame. "
   ]
  },
  {
   "cell_type": "code",
   "execution_count": null,
   "metadata": {},
   "outputs": [],
   "source": [
    "#Execute query in Drill\n",
    "query_result = drill.query('''\n",
    "SELECT JobTitle, \n",
    "AVG( TO_NUMBER( AnnualSalary, '¤' )) AS avg_salary, \n",
    "COUNT( DISTINCT `EmpName` ) AS number\n",
    "FROM dfs.drillclass.`baltimore_salaries_2016.csvh`\n",
    "GROUP BY JobTitle\n",
    "Order BY avg_salary DESC\n",
    "LIMIT 50\n",
    "''')\n",
    "\n",
    "#Iterate through the rows.\n",
    "for row in query_result:\n",
    "    print( row )"
   ]
  },
  {
   "cell_type": "markdown",
   "metadata": {},
   "source": [
    "### Retrieving a DataFrame\n",
    "You can also get PyDrill to directly return a DataFrame by using the `.to_dataframe()` method of the results object."
   ]
  },
  {
   "cell_type": "code",
   "execution_count": null,
   "metadata": {},
   "outputs": [],
   "source": [
    "df = query_result.to_dataframe()\n",
    "df.head()"
   ]
  },
  {
   "cell_type": "markdown",
   "metadata": {},
   "source": [
    "## In Class Exercise:\n",
    "Using the data in the `dailybots.csv` file use Drill to:\n",
    "1.  Query the file to produce a summary of infections by day.\n",
    "2.  Store this data in a dataframe using the `to_dataframe()` method.\n",
    "3.  Create a line plot of this data by calling the .plot() method on the dataframe\n",
    "\n",
    "In order to render the plot, you will need to convert the column containing the numeric field into a numeric data type. The command below converts a column called `bot_count` to a floating point number which can be rendered in a line chart.\n",
    "```python\n",
    "df.bot_count = df.bot_count.astype(float)\n",
    "```\n",
    "\n",
    "If you are unfamiliar with pandas and the corresponding plotting libraries, the documentation is available here: http://pandas.pydata.org/pandas-docs/stable/generated/pandas.DataFrame.plot.html."
   ]
  },
  {
   "cell_type": "code",
   "execution_count": null,
   "metadata": {
    "collapsed": true
   },
   "outputs": [],
   "source": []
  }
 ],
 "metadata": {
  "anaconda-cloud": {},
  "kernelspec": {
   "display_name": "Python 3",
   "language": "python",
   "name": "python3"
  },
  "language_info": {
   "codemirror_mode": {
    "name": "ipython",
    "version": 3
   },
   "file_extension": ".py",
   "mimetype": "text/x-python",
   "name": "python",
   "nbconvert_exporter": "python",
   "pygments_lexer": "ipython3",
   "version": "3.7.2"
  }
 },
 "nbformat": 4,
 "nbformat_minor": 1
}
