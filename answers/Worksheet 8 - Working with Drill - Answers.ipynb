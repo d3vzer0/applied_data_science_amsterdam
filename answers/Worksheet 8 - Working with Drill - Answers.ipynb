{
 "cells": [
  {
   "cell_type": "markdown",
   "metadata": {},
   "source": [
    "<img src=\"../img/logo_white_bkg_small.png\" align=\"right\" />\n",
    "\n",
    "# PyDrill Demonstration\n",
    "This notebook demonstrates how to use the PyDrill module to connect to Apache Drill and query data. The complete documentation for PyDrill can be found at http://pydrill.readthedocs.io\n",
    "\n",
    "The essential steps are:\n",
    "1.  Import the module\n",
    "2.  Open a connection to Drill\n",
    "3.  Execute a query\n",
    "4.  Do something with the results. \n",
    "\n",
    "You will first need to install PyDrill.  This can be done by opening a terminal and typing:\n",
    "```python\n",
    "pip install pydrill\n",
    "```\n",
    "## Step 1:  Import the PyDrill module\n",
    "After you've done this, you will be able to import the PyDrill module."
   ]
  },
  {
   "cell_type": "code",
   "execution_count": 1,
   "metadata": {
    "ExecuteTime": {
     "end_time": "2018-11-07T20:54:55.969414Z",
     "start_time": "2018-11-07T20:54:55.658931Z"
    }
   },
   "outputs": [],
   "source": [
    "from pydrill.client import PyDrill\n",
    "import pandas as pd\n",
    "import matplotlib.pyplot as plt\n",
    "%matplotlib inline\n",
    "plt.style.use('ggplot')"
   ]
  },
  {
   "cell_type": "markdown",
   "metadata": {},
   "source": [
    "## Step 2:  Open a connection to Drill\n",
    "The next step is to open a connection to Drill.  Once you've opened the connection, you will want to verify that the connection was successfully opened before executing any queries.  PyDrill includes an `is_active()` method for this purpose."
   ]
  },
  {
   "cell_type": "code",
   "execution_count": 2,
   "metadata": {
    "ExecuteTime": {
     "end_time": "2018-11-07T20:55:38.256042Z",
     "start_time": "2018-11-07T20:55:38.196195Z"
    }
   },
   "outputs": [],
   "source": [
    "#Open a connection to Drill\n",
    "drill = PyDrill(host='localhost', port=8047)\n",
    "\n",
    "#Verify the connection is active, throw an error if not.\n",
    "if not drill.is_active():\n",
    "    raise ImproperlyConfigured('Please run Drill first')"
   ]
  },
  {
   "cell_type": "markdown",
   "metadata": {},
   "source": [
    "## Step 3: Execute a query and get the results\n",
    "The next and final step is to execute a query in Drill.  When you call the `.query()` method, PyDrill returns an iterable object from which you can extract the rows of your results.  You can also get PyDrill to return a pandas DataFrame. "
   ]
  },
  {
   "cell_type": "code",
   "execution_count": 3,
   "metadata": {
    "ExecuteTime": {
     "end_time": "2018-11-07T20:55:57.607971Z",
     "start_time": "2018-11-07T20:55:56.366691Z"
    }
   },
   "outputs": [
    {
     "name": "stdout",
     "output_type": "stream",
     "text": [
      "{'number': '1', 'avg_salary': '238772.0', 'JobTitle': \"STATE'S ATTORNEY\"}\n",
      "{'number': '1', 'avg_salary': '200000.0', 'JobTitle': 'Police Commissioner'}\n",
      "{'number': '1', 'avg_salary': '182500.0', 'JobTitle': 'Executive Director V'}\n",
      "{'number': '1', 'avg_salary': '171635.0', 'JobTitle': 'MAYOR'}\n",
      "{'number': '10', 'avg_salary': '171306.5', 'JobTitle': 'Executive Director III'}\n",
      "{'number': '1', 'avg_salary': '169800.0', 'JobTitle': 'CITY SOLICITOR'}\n",
      "{'number': '1', 'avg_salary': '169800.0', 'JobTitle': 'DIRECTOR PUBLIC WORKS'}\n",
      "{'number': '1', 'avg_salary': '163000.0', 'JobTitle': 'CITY AUDITOR'}\n",
      "{'number': '2', 'avg_salary': '154900.0', 'JobTitle': 'Deputy Police Commissioner'}\n",
      "{'number': '4', 'avg_salary': '153905.0', 'JobTitle': 'Executive Director I'}\n",
      "{'number': '4', 'avg_salary': '149825.0', 'JobTitle': 'Executive Director IV'}\n",
      "{'number': '3', 'avg_salary': '146500.0', 'JobTitle': 'Assistant Fire Chief'}\n",
      "{'number': '1', 'avg_salary': '140800.0', 'JobTitle': 'Chief of Utility Finances'}\n",
      "{'number': '3', 'avg_salary': '138200.0', 'JobTitle': 'Police Colonel'}\n",
      "{'number': '4', 'avg_salary': '136850.0', 'JobTitle': 'Executive Director II'}\n",
      "{'number': '1', 'avg_salary': '135000.0', 'JobTitle': 'WWW Chief of Engineering'}\n",
      "{'number': '1', 'avg_salary': '132600.0', 'JobTitle': 'SHERIFF'}\n",
      "{'number': '1', 'avg_salary': '132600.0', 'JobTitle': 'WWW Division  Manager I'}\n",
      "{'number': '9', 'avg_salary': '131915.77777777778', 'JobTitle': 'Operations Director II'}\n",
      "{'number': '11', 'avg_salary': '131305.45454545456', 'JobTitle': 'Operations Director I'}\n",
      "{'number': '9', 'avg_salary': '130748.33333333333', 'JobTitle': 'Deputy Fire Chief'}\n",
      "{'number': '4', 'avg_salary': '130500.0', 'JobTitle': 'Police Lieutenant Colonel'}\n",
      "{'number': '16', 'avg_salary': '123900.0', 'JobTitle': 'Police Major'}\n",
      "{'number': '1', 'avg_salary': '122700.0', 'JobTitle': 'Deputy City Auditor'}\n",
      "{'number': '1', 'avg_salary': '121700.0', 'JobTitle': 'FINANCE PROJECT MANAGER'}\n",
      "{'number': '11', 'avg_salary': '121591.81818181818', 'JobTitle': 'Operations Manager III'}\n",
      "{'number': '5', 'avg_salary': '121590.0', 'JobTitle': 'IT Division Manager'}\n",
      "{'number': '1', 'avg_salary': '120841.0', 'JobTitle': 'DIRECTOR LEGISLATIVE REFERENCE'}\n",
      "{'number': '1', 'avg_salary': '120700.0', 'JobTitle': 'DIRECTOR, PUBLIC PROGRAM'}\n",
      "{'number': '1', 'avg_salary': '120400.0', 'JobTitle': 'PUBLIC HEALTH PHYSICIAN'}\n",
      "{'number': '1', 'avg_salary': '120000.0', 'JobTitle': 'Director, Automated Traffic Vi'}\n",
      "{'number': '3', 'avg_salary': '119916.0', 'JobTitle': 'MASTER'}\n",
      "{'number': '5', 'avg_salary': '118920.0', 'JobTitle': 'WWW Division Manager II'}\n",
      "{'number': '17', 'avg_salary': '117200.0', 'JobTitle': 'Police Captain'}\n",
      "{'number': '45', 'avg_salary': '116928.02222222222', 'JobTitle': 'Operations Manager II'}\n",
      "{'number': '1', 'avg_salary': '113700.0', 'JobTitle': 'LATENT PRINT EXAMINER SUPV'}\n",
      "{'number': '1', 'avg_salary': '113649.0', 'JobTitle': 'PRESIDENT CITY COUNCIL'}\n",
      "{'number': '1', 'avg_salary': '113649.0', 'JobTitle': 'COMPTROLLER'}\n",
      "{'number': '25', 'avg_salary': '110851.08', 'JobTitle': 'Battalion Fire Chief Suppress'}\n",
      "{'number': '4', 'avg_salary': '110289.75', 'JobTitle': 'Battalion Fire Chief, ALS Supp'}\n",
      "{'number': '1', 'avg_salary': '109968.0', 'JobTitle': 'PROGRAM MANAGER IV SHERIFF'}\n",
      "{'number': '1', 'avg_salary': '109000.0', 'JobTitle': 'DIRECTOR COUNCIL SERVICES'}\n",
      "{'number': '4', 'avg_salary': '108637.0', 'JobTitle': 'GENERAL COUNSEL'}\n",
      "{'number': '46', 'avg_salary': '107725.56521739131', 'JobTitle': 'Operations Manager I'}\n",
      "{'number': '51', 'avg_salary': '107615.94117647059', 'JobTitle': 'POLICE LIEUTENANT EID'}\n",
      "{'number': '55', 'avg_salary': '106699.18181818182', 'JobTitle': 'POLICE LIEUTENANT'}\n",
      "{'number': '1', 'avg_salary': '105800.0', 'JobTitle': 'DIRECTOR ORAL HEALTH SERVICES'}\n",
      "{'number': '6', 'avg_salary': '105033.5', 'JobTitle': 'Battalion Fire Chief EMS EMT-P'}\n",
      "{'number': '47', 'avg_salary': '104826.74468085106', 'JobTitle': \"CHIEF STATE'S ATTORNEY\"}\n",
      "{'number': '18', 'avg_salary': '104681.88888888889', 'JobTitle': 'CHIEF SOLICITOR'}\n"
     ]
    }
   ],
   "source": [
    "#Execute query in Drill\n",
    "query_result = drill.query('''\n",
    "SELECT JobTitle, \n",
    "AVG( TO_NUMBER( AnnualSalary, '¤' )) AS avg_salary, \n",
    "COUNT( DISTINCT `EmpName` ) AS number\n",
    "FROM dfs.drillclass.`baltimore_salaries_2016.csvh`\n",
    "GROUP BY JobTitle\n",
    "Order BY avg_salary DESC\n",
    "LIMIT 50\n",
    "''')\n",
    "\n",
    "#Iterate through the rows.\n",
    "for row in query_result:\n",
    "    print( row )"
   ]
  },
  {
   "cell_type": "markdown",
   "metadata": {},
   "source": [
    "### Retrieving a DataFrame\n",
    "You can also get PyDrill to directly return a DataFrame by using the `.to_dataframe()` method of the results object."
   ]
  },
  {
   "cell_type": "code",
   "execution_count": 4,
   "metadata": {
    "ExecuteTime": {
     "end_time": "2018-11-07T20:56:10.670525Z",
     "start_time": "2018-11-07T20:56:10.653181Z"
    }
   },
   "outputs": [
    {
     "data": {
      "application/vnd.jupyter.widget-view+json": {
       "model_id": "ff1d2c25ba344e00a13798f76fcf0553",
       "version_major": 2,
       "version_minor": 0
      }
     },
     "metadata": {},
     "output_type": "display_data"
    }
   ],
   "source": [
    "df = query_result.to_dataframe()\n",
    "df.head()"
   ]
  },
  {
   "cell_type": "markdown",
   "metadata": {},
   "source": [
    "## In Class Exercise:\n",
    "Using the data in the `dailybots.csv` file use Drill to:\n",
    "1.  Query the file to produce a summary of infections by day.\n",
    "2.  Store this data in a dataframe using the `to_dataframe()` method.\n",
    "3.  Create a line plot of this data by calling the .plot() method on the dataframe\n",
    "\n",
    "In order to render the plot, you will need to convert the column containing the numeric field into a numeric data type. The command below converts a column called `bot_count` to a floating point number which can be rendered in a line chart.\n",
    "```python\n",
    "df['host_count'] = df['host_count'].astype(int)\n",
    "```\n",
    "\n",
    "If you are unfamiliar with pandas and the corresponding plotting libraries, the documentation is available here: http://pandas.pydata.org/pandas-docs/stable/generated/pandas.DataFrame.plot.html."
   ]
  },
  {
   "cell_type": "code",
   "execution_count": 5,
   "metadata": {
    "ExecuteTime": {
     "end_time": "2018-11-07T20:56:57.332271Z",
     "start_time": "2018-11-07T20:56:56.879725Z"
    }
   },
   "outputs": [],
   "source": [
    "query_result = drill.query( \"\"\"SELECT `date`, SUM( CAST(`hosts` AS INT) ) AS host_count\n",
    "FROM dfs.drillclass.`dailybots.csvh`\n",
    "GROUP BY `date`\n",
    "ORDER BY `date`\"\"\")\n",
    "\n",
    "#Get the dataframe\n",
    "df = query_result.to_dataframe()\n",
    "\n",
    "#Convert the host count to an integer field\n",
    "df['host_count'] = df['host_count'].astype(int)\n",
    "\n",
    "#Sort by the date column\n",
    "df.sort_values('date', inplace=True, ascending=True)"
   ]
  },
  {
   "cell_type": "code",
   "execution_count": 6,
   "metadata": {
    "ExecuteTime": {
     "end_time": "2018-11-07T20:57:47.239698Z",
     "start_time": "2018-11-07T20:57:47.225164Z"
    }
   },
   "outputs": [
    {
     "data": {
      "application/vnd.jupyter.widget-view+json": {
       "model_id": "713d510c511744daa762937cc0b60e7e",
       "version_major": 2,
       "version_minor": 0
      }
     },
     "metadata": {},
     "output_type": "display_data"
    }
   ],
   "source": [
    "df.head()"
   ]
  },
  {
   "cell_type": "code",
   "execution_count": 7,
   "metadata": {
    "ExecuteTime": {
     "end_time": "2018-11-07T20:58:01.655164Z",
     "start_time": "2018-11-07T20:58:01.410201Z"
    }
   },
   "outputs": [
    {
     "data": {
      "text/plain": [
       "<matplotlib.axes._subplots.AxesSubplot at 0x12230bf98>"
      ]
     },
     "execution_count": 7,
     "metadata": {},
     "output_type": "execute_result"
    },
    {
     "data": {
      "image/png": "[encoded data removed]",
      "text/plain": [
       "<Figure size 1008x576 with 1 Axes>"
      ]
     },
     "metadata": {
      "needs_background": "light"
     },
     "output_type": "display_data"
    }
   ],
   "source": [
    "#Plot the data\n",
    "df.plot(figsize=(14,8))"
   ]
  },
  {
   "cell_type": "markdown",
   "metadata": {},
   "source": [
    "## Building a Report using Drill and Superset\n",
    "In this example, we will use a HTTPD logfile and create a report of suspicious activity.  The file `hackers-access.httpd` is a web server log.  \n",
    "\n",
    "You can read more about this file here: https://github.com/nielsbasjes/logparser/tree/master/examples/demolog\n",
    "\n",
    "The path `/join_form` is a path which should be unknown to anyone except people trying to break into the site. Using Drill and Superset, create visualizations which answer the following questions:\n",
    "1. What time of day are people trying to access this page?\n",
    "2. What browsers are they using?\n",
    "3. Where are they coming from?"
   ]
  },
  {
   "cell_type": "code",
   "execution_count": null,
   "metadata": {},
   "outputs": [],
   "source": []
  }
 ],
 "metadata": {
  "anaconda-cloud": {},
  "kernelspec": {
   "display_name": "Python 3",
   "language": "python",
   "name": "python3"
  },
  "language_info": {
   "codemirror_mode": {
    "name": "ipython",
    "version": 3
   },
   "file_extension": ".py",
   "mimetype": "text/x-python",
   "name": "python",
   "nbconvert_exporter": "python",
   "pygments_lexer": "ipython3",
   "version": "3.7.2"
  },
  "toc": {
   "base_numbering": 1,
   "nav_menu": {},
   "number_sections": false,
   "sideBar": false,
   "skip_h1_title": false,
   "title_cell": "Table of Contents",
   "title_sidebar": "Contents",
   "toc_cell": false,
   "toc_position": {},
   "toc_section_display": false,
   "toc_window_display": false
  },
  "varInspector": {
   "cols": {
    "lenName": 16,
    "lenType": 16,
    "lenVar": 40
   },
   "kernels_config": {
    "python": {
     "delete_cmd_postfix": "",
     "delete_cmd_prefix": "del ",
     "library": "var_list.py",
     "varRefreshCmd": "print(var_dic_list())"
    },
    "r": {
     "delete_cmd_postfix": ") ",
     "delete_cmd_prefix": "rm(",
     "library": "var_list.r",
     "varRefreshCmd": "cat(var_dic_list()) "
    }
   },
   "types_to_exclude": [
    "module",
    "function",
    "builtin_function_or_method",
    "instance",
    "_Feature"
   ],
   "window_display": false
  }
 },
 "nbformat": 4,
 "nbformat_minor": 1
}
