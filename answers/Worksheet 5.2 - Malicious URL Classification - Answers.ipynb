{
 "cells": [
  {
   "cell_type": "code",
   "execution_count": 8,
   "metadata": {
    "ExecuteTime": {
     "end_time": "2019-03-06T13:46:41.572988Z",
     "start_time": "2019-03-06T13:46:41.519586Z"
    },
    "run_control": {
     "frozen": false,
     "read_only": false
    }
   },
   "outputs": [],
   "source": [
    "# Load Libraries - Make sure to run this cell!\n",
    "import pandas as pd\n",
    "import numpy as np\n",
    "import re\n",
    "import datetime  \n",
    "from collections import Counter\n",
    "from sklearn import feature_extraction, tree, model_selection, metrics\n",
    "from sklearn.feature_extraction.text import CountVectorizer\n",
    "from sklearn.model_selection import train_test_split\n",
    "import matplotlib.pyplot as plt\n",
    "import matplotlib\n",
    "from yellowbrick.classifier import ConfusionMatrix, ROCAUC\n",
    "from yellowbrick.classifier import ClassificationReport\n",
    "import scikitplot as skplt\n",
    "%matplotlib inline\n",
    "plt.rcParams['figure.figsize'] = [10, 8]\n",
    "\n",
    "# Useful cyber libraries\n",
    "import whois   # pip install python-whois\n",
    "import tldextract  # pip install tldextract \n",
    "import ipaddress  # pip install ipaddress\n",
    "import dns.query  # pip install dnspython\n",
    "import dns.resolver\n",
    "import entropy\n",
    "from dns.exception import DNSException"
   ]
  },
  {
   "cell_type": "markdown",
   "metadata": {},
   "source": [
    "<img src=\"../img/logo_white_bkg_small.png\" align=\"right\" />   \n",
    "\n",
    "\n",
    "## Worksheet 5.2 Malicious URL Classification - Answers\n",
    "\n",
    "This worksheet is a step-by-step guide on how to train a Machine Learning model that can detect malicious URLs. We will walk you through the process of transforming raw URL strings to Machine Learning features and creating a Decision Tree Classifer which you will use to determine whether a given URL is malicious or not. Once you have implemented the classifier, the worksheet will walk you through evaluating your model.  \n",
    "\n",
    "### Overview 2 main steps:\n",
    "\n",
    "1. **Feature Engineering** - from raw URL strings to features using [pandas](http://pandas.pydata.org/pandas-docs/stable/) DataFrame, datetime and [numpy](http://www.numpy.org/) manipulations.\n",
    "2. **Machine Learning Classification** - predict whether a URL is malicious or not using a Decision Tree Classifier in [sklearn](http://scikit-learn.org/stable/) and evaluate model performance\n",
    "\n",
    "We provide an additional notebook where you can see how to use \"Featureless Deep Learning\" to build such a classifier.\n",
    "\n",
    "\n",
    "### Data\n",
    "\n",
    "The dataset was build from various different open source data sources. Computationally intensive tasks such as retrieving the creation time for each unique domain in the data set via [whois](https://pypi.python.org/pypi/python-whois) have already been performed beforehand. Some of the open source URLs came with the zone apex only, others didn't include the protocol, therefore, we uniformly removed the protocol (http:// or https://) and subdomain (e.g. www) from the URL string if applicable.\n",
    "\n",
    "Benign\n",
    "- Custom automated webscraping of [Alexa Top 1M](https://blog.majestic.com/development/majestic-million-csv-daily/) with recursive depth of scraping of level 1.\n",
    "\n",
    "Malicious\n",
    "- Various blacklists\n",
    "- [openphish](https://openphish.com/)\n",
    "- [phishtank](https://www.phishtank.com/)\n",
    "- [public GitHub faizann24](https://github.com/faizann24/Using-machine-learning-to-detect-malicious-URLs)\n",
    "- some more sources\n",
    "\n",
    "The dataset is perfectly balanced (50% benign and 50% malicious). We emphasized on getting benign URLs with paths and not just the domain. Furthermore, depending on your environment you can choose between a smaller subset (```url_data_small.csv``` containing 4000 URLs balanced) or the full data set (```url_data_full.csv``` containing 87380 URLs balanced)."
   ]
  },
  {
   "cell_type": "code",
   "execution_count": 9,
   "metadata": {
    "ExecuteTime": {
     "end_time": "2019-03-06T13:46:43.448327Z",
     "start_time": "2019-03-06T13:46:43.153815Z"
    },
    "run_control": {
     "frozen": false,
     "read_only": false
    }
   },
   "outputs": [
    {
     "name": "stdout",
     "output_type": "stream",
     "text": [
      "(87380, 5)\n"
     ]
    },
    {
     "data": {
      "text/html": [
       "<div>\n",
       "<style scoped>\n",
       "    .dataframe tbody tr th:only-of-type {\n",
       "        vertical-align: middle;\n",
       "    }\n",
       "\n",
       "    .dataframe tbody tr th {\n",
       "        vertical-align: top;\n",
       "    }\n",
       "\n",
       "    .dataframe thead th {\n",
       "        text-align: right;\n",
       "    }\n",
       "</style>\n",
       "<table border=\"1\" class=\"dataframe\">\n",
       "  <thead>\n",
       "    <tr style=\"text-align: right;\">\n",
       "      <th></th>\n",
       "      <th>url</th>\n",
       "      <th>isMalicious</th>\n",
       "      <th>domain</th>\n",
       "      <th>created</th>\n",
       "      <th>isIP</th>\n",
       "    </tr>\n",
       "  </thead>\n",
       "  <tbody>\n",
       "    <tr>\n",
       "      <th>68804</th>\n",
       "      <td>pt-tkbi.com/documents/preview/onlinenow/web.php</td>\n",
       "      <td>1</td>\n",
       "      <td>pt-tkbi.com</td>\n",
       "      <td>2014-08-12 04:11:47.000</td>\n",
       "      <td>0</td>\n",
       "    </tr>\n",
       "    <tr>\n",
       "      <th>87032</th>\n",
       "      <td>vraert.com/wp-includes/pomo/src.php?id=</td>\n",
       "      <td>1</td>\n",
       "      <td>vraert.com</td>\n",
       "      <td>2005-08-01 00:00:00.000000</td>\n",
       "      <td>0</td>\n",
       "    </tr>\n",
       "    <tr>\n",
       "      <th>33957</th>\n",
       "      <td>google.com/+element14/posts</td>\n",
       "      <td>0</td>\n",
       "      <td>google.com</td>\n",
       "      <td>1997-09-15 00:00:00.000</td>\n",
       "      <td>0</td>\n",
       "    </tr>\n",
       "    <tr>\n",
       "      <th>11937</th>\n",
       "      <td>moz.com/local/overview</td>\n",
       "      <td>0</td>\n",
       "      <td>moz.com</td>\n",
       "      <td>1998-04-29 04:00:00.000</td>\n",
       "      <td>0</td>\n",
       "    </tr>\n",
       "    <tr>\n",
       "      <th>16795</th>\n",
       "      <td>nuxe.com/huile-prodigie-en-26/dry-oil-huile-pr...</td>\n",
       "      <td>0</td>\n",
       "      <td>nuxe.com</td>\n",
       "      <td>1998-02-27 00:00:00.000</td>\n",
       "      <td>0</td>\n",
       "    </tr>\n",
       "  </tbody>\n",
       "</table>\n",
       "</div>"
      ],
      "text/plain": [
       "                                                     url  isMalicious  \\\n",
       "68804    pt-tkbi.com/documents/preview/onlinenow/web.php            1   \n",
       "87032            vraert.com/wp-includes/pomo/src.php?id=            1   \n",
       "33957                        google.com/+element14/posts            0   \n",
       "11937                             moz.com/local/overview            0   \n",
       "16795  nuxe.com/huile-prodigie-en-26/dry-oil-huile-pr...            0   \n",
       "\n",
       "            domain                     created  isIP  \n",
       "68804  pt-tkbi.com     2014-08-12 04:11:47.000     0  \n",
       "87032   vraert.com  2005-08-01 00:00:00.000000     0  \n",
       "33957   google.com     1997-09-15 00:00:00.000     0  \n",
       "11937      moz.com     1998-04-29 04:00:00.000     0  \n",
       "16795     nuxe.com     1998-02-27 00:00:00.000     0  "
      ]
     },
     "execution_count": 9,
     "metadata": {},
     "output_type": "execute_result"
    }
   ],
   "source": [
    "## Load data\n",
    "DATA_HOME = '../data/'\n",
    "df = pd.read_csv(DATA_HOME + 'url_data_full.csv')\n",
    "# df = pd.read_csv('../../Data/URL/url_data_small.csv')\n",
    "df.isIP = df.isIP.astype(int)\n",
    "print(df.shape)\n",
    "df.sample(n=5) # print a random sample of the DataFrame"
   ]
  },
  {
   "cell_type": "markdown",
   "metadata": {},
   "source": [
    "#### Breakpoint: Load Features and Labels\n",
    "\n",
    "If you got stuck in Part 1, please simply load the feature matrix we prepared for you, so you can move on to Part 2 and train a Decision Tree Classifier."
   ]
  },
  {
   "cell_type": "code",
   "execution_count": 10,
   "metadata": {
    "ExecuteTime": {
     "end_time": "2019-03-06T13:46:46.738952Z",
     "start_time": "2019-03-06T13:46:45.471857Z"
    },
    "run_control": {
     "frozen": false,
     "read_only": false
    }
   },
   "outputs": [
    {
     "name": "stdout",
     "output_type": "stream",
     "text": [
      "1    43690\n",
      "0    43690\n",
      "Name: isMalicious, dtype: int64\n",
      "158\n"
     ]
    },
    {
     "data": {
      "text/html": [
       "<div>\n",
       "<style scoped>\n",
       "    .dataframe tbody tr th:only-of-type {\n",
       "        vertical-align: middle;\n",
       "    }\n",
       "\n",
       "    .dataframe tbody tr th {\n",
       "        vertical-align: top;\n",
       "    }\n",
       "\n",
       "    .dataframe thead th {\n",
       "        text-align: right;\n",
       "    }\n",
       "</style>\n",
       "<table border=\"1\" class=\"dataframe\">\n",
       "  <thead>\n",
       "    <tr style=\"text-align: right;\">\n",
       "      <th></th>\n",
       "      <th>isMalicious</th>\n",
       "      <th>isIP</th>\n",
       "      <th>Length</th>\n",
       "      <th>LengthDomain</th>\n",
       "      <th>DigitsCount</th>\n",
       "      <th>EntropyDomain</th>\n",
       "      <th>FirstDigitIndex</th>\n",
       "      <th>com</th>\n",
       "      <th>org</th>\n",
       "      <th>net</th>\n",
       "      <th>...</th>\n",
       "      <th>user</th>\n",
       "      <th>v</th>\n",
       "      <th>video</th>\n",
       "      <th>view</th>\n",
       "      <th>web</th>\n",
       "      <th>websc</th>\n",
       "      <th>wiki</th>\n",
       "      <th>wp</th>\n",
       "      <th>www</th>\n",
       "      <th>DurationCreated</th>\n",
       "    </tr>\n",
       "  </thead>\n",
       "  <tbody>\n",
       "    <tr>\n",
       "      <th>38754</th>\n",
       "      <td>0</td>\n",
       "      <td>0</td>\n",
       "      <td>25</td>\n",
       "      <td>7</td>\n",
       "      <td>0</td>\n",
       "      <td>2.807355</td>\n",
       "      <td>0</td>\n",
       "      <td>1</td>\n",
       "      <td>0</td>\n",
       "      <td>0</td>\n",
       "      <td>...</td>\n",
       "      <td>0</td>\n",
       "      <td>0</td>\n",
       "      <td>0</td>\n",
       "      <td>0</td>\n",
       "      <td>0</td>\n",
       "      <td>0</td>\n",
       "      <td>0</td>\n",
       "      <td>0</td>\n",
       "      <td>0</td>\n",
       "      <td>8507</td>\n",
       "    </tr>\n",
       "    <tr>\n",
       "      <th>12549</th>\n",
       "      <td>0</td>\n",
       "      <td>0</td>\n",
       "      <td>38</td>\n",
       "      <td>14</td>\n",
       "      <td>0</td>\n",
       "      <td>3.093069</td>\n",
       "      <td>0</td>\n",
       "      <td>1</td>\n",
       "      <td>0</td>\n",
       "      <td>0</td>\n",
       "      <td>...</td>\n",
       "      <td>0</td>\n",
       "      <td>0</td>\n",
       "      <td>0</td>\n",
       "      <td>0</td>\n",
       "      <td>0</td>\n",
       "      <td>0</td>\n",
       "      <td>0</td>\n",
       "      <td>0</td>\n",
       "      <td>0</td>\n",
       "      <td>4877</td>\n",
       "    </tr>\n",
       "    <tr>\n",
       "      <th>87121</th>\n",
       "      <td>1</td>\n",
       "      <td>0</td>\n",
       "      <td>60</td>\n",
       "      <td>20</td>\n",
       "      <td>0</td>\n",
       "      <td>3.746439</td>\n",
       "      <td>0</td>\n",
       "      <td>1</td>\n",
       "      <td>0</td>\n",
       "      <td>0</td>\n",
       "      <td>...</td>\n",
       "      <td>0</td>\n",
       "      <td>0</td>\n",
       "      <td>0</td>\n",
       "      <td>0</td>\n",
       "      <td>0</td>\n",
       "      <td>0</td>\n",
       "      <td>0</td>\n",
       "      <td>0</td>\n",
       "      <td>0</td>\n",
       "      <td>444</td>\n",
       "    </tr>\n",
       "    <tr>\n",
       "      <th>5048</th>\n",
       "      <td>0</td>\n",
       "      <td>0</td>\n",
       "      <td>28</td>\n",
       "      <td>12</td>\n",
       "      <td>6</td>\n",
       "      <td>3.418296</td>\n",
       "      <td>22</td>\n",
       "      <td>1</td>\n",
       "      <td>0</td>\n",
       "      <td>0</td>\n",
       "      <td>...</td>\n",
       "      <td>0</td>\n",
       "      <td>0</td>\n",
       "      <td>0</td>\n",
       "      <td>0</td>\n",
       "      <td>0</td>\n",
       "      <td>0</td>\n",
       "      <td>0</td>\n",
       "      <td>0</td>\n",
       "      <td>0</td>\n",
       "      <td>6660</td>\n",
       "    </tr>\n",
       "    <tr>\n",
       "      <th>38250</th>\n",
       "      <td>0</td>\n",
       "      <td>0</td>\n",
       "      <td>47</td>\n",
       "      <td>11</td>\n",
       "      <td>18</td>\n",
       "      <td>3.027169</td>\n",
       "      <td>30</td>\n",
       "      <td>1</td>\n",
       "      <td>0</td>\n",
       "      <td>0</td>\n",
       "      <td>...</td>\n",
       "      <td>0</td>\n",
       "      <td>0</td>\n",
       "      <td>0</td>\n",
       "      <td>0</td>\n",
       "      <td>0</td>\n",
       "      <td>0</td>\n",
       "      <td>0</td>\n",
       "      <td>0</td>\n",
       "      <td>0</td>\n",
       "      <td>6497</td>\n",
       "    </tr>\n",
       "  </tbody>\n",
       "</table>\n",
       "<p>5 rows × 158 columns</p>\n",
       "</div>"
      ],
      "text/plain": [
       "       isMalicious  isIP  Length  LengthDomain  DigitsCount  EntropyDomain  \\\n",
       "38754            0     0      25             7            0       2.807355   \n",
       "12549            0     0      38            14            0       3.093069   \n",
       "87121            1     0      60            20            0       3.746439   \n",
       "5048             0     0      28            12            6       3.418296   \n",
       "38250            0     0      47            11           18       3.027169   \n",
       "\n",
       "       FirstDigitIndex  com  org  net       ...         user  v  video  view  \\\n",
       "38754                0    1    0    0       ...            0  0      0     0   \n",
       "12549                0    1    0    0       ...            0  0      0     0   \n",
       "87121                0    1    0    0       ...            0  0      0     0   \n",
       "5048                22    1    0    0       ...            0  0      0     0   \n",
       "38250               30    1    0    0       ...            0  0      0     0   \n",
       "\n",
       "       web  websc  wiki  wp  www  DurationCreated  \n",
       "38754    0      0     0   0    0             8507  \n",
       "12549    0      0     0   0    0             4877  \n",
       "87121    0      0     0   0    0              444  \n",
       "5048     0      0     0   0    0             6660  \n",
       "38250    0      0     0   0    0             6497  \n",
       "\n",
       "[5 rows x 158 columns]"
      ]
     },
     "execution_count": 10,
     "metadata": {},
     "output_type": "execute_result"
    }
   ],
   "source": [
    "df_final = pd.read_csv(DATA_HOME + 'url_features_final_df.csv')\n",
    "print(df_final.isMalicious.value_counts())\n",
    "print(len(df_final.columns))\n",
    "df_final.sample(n=5).head()"
   ]
  },
  {
   "cell_type": "markdown",
   "metadata": {},
   "source": [
    "## Part 2 - Machine Learning\n",
    "\n",
    "To learn simple classification procedures using [sklearn](http://scikit-learn.org/stable/) we have split the work flow into 5 steps."
   ]
  },
  {
   "cell_type": "markdown",
   "metadata": {},
   "source": [
    "### Step 1: Prepare Feature matrix ```X``` and ```target``` vector containing the URL labels\n",
    "\n",
    "- X is the feature matrix\n",
    "- target is a vector containing the labels for each URL (often also called *y* in statistics)\n",
    "- for sklearn input X and target can either be a pandas DataFrame/Series or numpy array/vector respectively (can't be lists!)\n",
    "\n",
    "Tasks:\n",
    "- assign ```'isMalicious'``` column to a pandas Series named 'target'\n",
    "- drop ```'isMalicious'``` column from DataFrame and name the resulting pandas DataFrame ```X```\n",
    "- save the column names of the ```X``` in a variable called ```feature_names```"
   ]
  },
  {
   "cell_type": "code",
   "execution_count": 11,
   "metadata": {
    "ExecuteTime": {
     "end_time": "2019-03-06T13:47:12.378087Z",
     "start_time": "2019-03-06T13:47:12.290778Z"
    },
    "run_control": {
     "frozen": false,
     "read_only": false
    }
   },
   "outputs": [
    {
     "name": "stdout",
     "output_type": "stream",
     "text": [
      "Final features Index(['isIP', 'Length', 'LengthDomain', 'DigitsCount', 'EntropyDomain',\n",
      "       'FirstDigitIndex', 'com', 'org', 'net', 'ru',\n",
      "       ...\n",
      "       'user', 'v', 'video', 'view', 'web', 'websc', 'wiki', 'wp', 'www',\n",
      "       'DurationCreated'],\n",
      "      dtype='object', length=157)\n",
      "157\n"
     ]
    }
   ],
   "source": [
    "target = df_final['isMalicious']\n",
    "X = df_final.drop(['isMalicious'], axis=1)\n",
    "print('Final features', X.columns)\n",
    "feature_names = list(X.columns)\n",
    "print(len(feature_names))\n",
    "\n",
    "# also valid, convert directly to numpy array\n",
    "#target = np.array(target)  # 1d array of default type int64! for classification\n",
    "#X = np.array(X)  # nd-array of default type float64"
   ]
  },
  {
   "cell_type": "code",
   "execution_count": 12,
   "metadata": {
    "ExecuteTime": {
     "end_time": "2019-03-06T13:47:20.135079Z",
     "start_time": "2019-03-06T13:47:20.113591Z"
    }
   },
   "outputs": [
    {
     "data": {
      "text/html": [
       "<div>\n",
       "<style scoped>\n",
       "    .dataframe tbody tr th:only-of-type {\n",
       "        vertical-align: middle;\n",
       "    }\n",
       "\n",
       "    .dataframe tbody tr th {\n",
       "        vertical-align: top;\n",
       "    }\n",
       "\n",
       "    .dataframe thead th {\n",
       "        text-align: right;\n",
       "    }\n",
       "</style>\n",
       "<table border=\"1\" class=\"dataframe\">\n",
       "  <thead>\n",
       "    <tr style=\"text-align: right;\">\n",
       "      <th></th>\n",
       "      <th>isIP</th>\n",
       "      <th>Length</th>\n",
       "      <th>LengthDomain</th>\n",
       "      <th>DigitsCount</th>\n",
       "      <th>EntropyDomain</th>\n",
       "      <th>FirstDigitIndex</th>\n",
       "      <th>com</th>\n",
       "      <th>org</th>\n",
       "      <th>net</th>\n",
       "      <th>ru</th>\n",
       "      <th>...</th>\n",
       "      <th>user</th>\n",
       "      <th>v</th>\n",
       "      <th>video</th>\n",
       "      <th>view</th>\n",
       "      <th>web</th>\n",
       "      <th>websc</th>\n",
       "      <th>wiki</th>\n",
       "      <th>wp</th>\n",
       "      <th>www</th>\n",
       "      <th>DurationCreated</th>\n",
       "    </tr>\n",
       "  </thead>\n",
       "  <tbody>\n",
       "    <tr>\n",
       "      <th>48397</th>\n",
       "      <td>0</td>\n",
       "      <td>74</td>\n",
       "      <td>13</td>\n",
       "      <td>0</td>\n",
       "      <td>3.392747</td>\n",
       "      <td>0</td>\n",
       "      <td>1</td>\n",
       "      <td>0</td>\n",
       "      <td>0</td>\n",
       "      <td>0</td>\n",
       "      <td>...</td>\n",
       "      <td>0</td>\n",
       "      <td>0</td>\n",
       "      <td>0</td>\n",
       "      <td>0</td>\n",
       "      <td>0</td>\n",
       "      <td>0</td>\n",
       "      <td>0</td>\n",
       "      <td>0</td>\n",
       "      <td>0</td>\n",
       "      <td>601</td>\n",
       "    </tr>\n",
       "    <tr>\n",
       "      <th>54369</th>\n",
       "      <td>0</td>\n",
       "      <td>29</td>\n",
       "      <td>16</td>\n",
       "      <td>0</td>\n",
       "      <td>3.577820</td>\n",
       "      <td>0</td>\n",
       "      <td>1</td>\n",
       "      <td>0</td>\n",
       "      <td>0</td>\n",
       "      <td>0</td>\n",
       "      <td>...</td>\n",
       "      <td>0</td>\n",
       "      <td>0</td>\n",
       "      <td>0</td>\n",
       "      <td>0</td>\n",
       "      <td>0</td>\n",
       "      <td>0</td>\n",
       "      <td>0</td>\n",
       "      <td>0</td>\n",
       "      <td>0</td>\n",
       "      <td>2662</td>\n",
       "    </tr>\n",
       "    <tr>\n",
       "      <th>61042</th>\n",
       "      <td>0</td>\n",
       "      <td>33</td>\n",
       "      <td>13</td>\n",
       "      <td>3</td>\n",
       "      <td>3.180833</td>\n",
       "      <td>15</td>\n",
       "      <td>1</td>\n",
       "      <td>0</td>\n",
       "      <td>0</td>\n",
       "      <td>0</td>\n",
       "      <td>...</td>\n",
       "      <td>0</td>\n",
       "      <td>0</td>\n",
       "      <td>0</td>\n",
       "      <td>0</td>\n",
       "      <td>0</td>\n",
       "      <td>0</td>\n",
       "      <td>0</td>\n",
       "      <td>0</td>\n",
       "      <td>0</td>\n",
       "      <td>999</td>\n",
       "    </tr>\n",
       "    <tr>\n",
       "      <th>52312</th>\n",
       "      <td>0</td>\n",
       "      <td>141</td>\n",
       "      <td>17</td>\n",
       "      <td>24</td>\n",
       "      <td>3.572469</td>\n",
       "      <td>44</td>\n",
       "      <td>1</td>\n",
       "      <td>0</td>\n",
       "      <td>0</td>\n",
       "      <td>0</td>\n",
       "      <td>...</td>\n",
       "      <td>1</td>\n",
       "      <td>0</td>\n",
       "      <td>0</td>\n",
       "      <td>0</td>\n",
       "      <td>0</td>\n",
       "      <td>0</td>\n",
       "      <td>0</td>\n",
       "      <td>0</td>\n",
       "      <td>0</td>\n",
       "      <td>3294</td>\n",
       "    </tr>\n",
       "    <tr>\n",
       "      <th>81739</th>\n",
       "      <td>0</td>\n",
       "      <td>62</td>\n",
       "      <td>17</td>\n",
       "      <td>3</td>\n",
       "      <td>3.454822</td>\n",
       "      <td>26</td>\n",
       "      <td>1</td>\n",
       "      <td>0</td>\n",
       "      <td>0</td>\n",
       "      <td>0</td>\n",
       "      <td>...</td>\n",
       "      <td>0</td>\n",
       "      <td>0</td>\n",
       "      <td>0</td>\n",
       "      <td>1</td>\n",
       "      <td>0</td>\n",
       "      <td>0</td>\n",
       "      <td>0</td>\n",
       "      <td>0</td>\n",
       "      <td>0</td>\n",
       "      <td>1081</td>\n",
       "    </tr>\n",
       "  </tbody>\n",
       "</table>\n",
       "<p>5 rows × 157 columns</p>\n",
       "</div>"
      ],
      "text/plain": [
       "       isIP  Length  LengthDomain  DigitsCount  EntropyDomain  \\\n",
       "48397     0      74            13            0       3.392747   \n",
       "54369     0      29            16            0       3.577820   \n",
       "61042     0      33            13            3       3.180833   \n",
       "52312     0     141            17           24       3.572469   \n",
       "81739     0      62            17            3       3.454822   \n",
       "\n",
       "       FirstDigitIndex  com  org  net  ru       ...         user  v  video  \\\n",
       "48397                0    1    0    0   0       ...            0  0      0   \n",
       "54369                0    1    0    0   0       ...            0  0      0   \n",
       "61042               15    1    0    0   0       ...            0  0      0   \n",
       "52312               44    1    0    0   0       ...            1  0      0   \n",
       "81739               26    1    0    0   0       ...            0  0      0   \n",
       "\n",
       "       view  web  websc  wiki  wp  www  DurationCreated  \n",
       "48397     0    0      0     0   0    0              601  \n",
       "54369     0    0      0     0   0    0             2662  \n",
       "61042     0    0      0     0   0    0              999  \n",
       "52312     0    0      0     0   0    0             3294  \n",
       "81739     1    0      0     0   0    0             1081  \n",
       "\n",
       "[5 rows x 157 columns]"
      ]
     },
     "execution_count": 12,
     "metadata": {},
     "output_type": "execute_result"
    }
   ],
   "source": [
    "X.sample(5)"
   ]
  },
  {
   "cell_type": "code",
   "execution_count": 13,
   "metadata": {
    "ExecuteTime": {
     "end_time": "2019-03-06T13:13:09.401005Z",
     "start_time": "2019-03-06T13:13:09.373831Z"
    },
    "run_control": {
     "frozen": false,
     "read_only": false
    }
   },
   "outputs": [
    {
     "data": {
      "text/html": [
       "<div>\n",
       "<style scoped>\n",
       "    .dataframe tbody tr th:only-of-type {\n",
       "        vertical-align: middle;\n",
       "    }\n",
       "\n",
       "    .dataframe tbody tr th {\n",
       "        vertical-align: top;\n",
       "    }\n",
       "\n",
       "    .dataframe thead th {\n",
       "        text-align: right;\n",
       "    }\n",
       "</style>\n",
       "<table border=\"1\" class=\"dataframe\">\n",
       "  <thead>\n",
       "    <tr style=\"text-align: right;\">\n",
       "      <th></th>\n",
       "      <th>isIP</th>\n",
       "      <th>Length</th>\n",
       "      <th>LengthDomain</th>\n",
       "      <th>DigitsCount</th>\n",
       "      <th>EntropyDomain</th>\n",
       "      <th>FirstDigitIndex</th>\n",
       "      <th>com</th>\n",
       "      <th>org</th>\n",
       "      <th>net</th>\n",
       "      <th>ru</th>\n",
       "      <th>...</th>\n",
       "      <th>user</th>\n",
       "      <th>v</th>\n",
       "      <th>video</th>\n",
       "      <th>view</th>\n",
       "      <th>web</th>\n",
       "      <th>websc</th>\n",
       "      <th>wiki</th>\n",
       "      <th>wp</th>\n",
       "      <th>www</th>\n",
       "      <th>DurationCreated</th>\n",
       "    </tr>\n",
       "  </thead>\n",
       "  <tbody>\n",
       "    <tr>\n",
       "      <th>82398</th>\n",
       "      <td>0</td>\n",
       "      <td>147</td>\n",
       "      <td>11</td>\n",
       "      <td>38</td>\n",
       "      <td>3.095795</td>\n",
       "      <td>84</td>\n",
       "      <td>1</td>\n",
       "      <td>0</td>\n",
       "      <td>0</td>\n",
       "      <td>0</td>\n",
       "      <td>...</td>\n",
       "      <td>0</td>\n",
       "      <td>0</td>\n",
       "      <td>0</td>\n",
       "      <td>0</td>\n",
       "      <td>0</td>\n",
       "      <td>1</td>\n",
       "      <td>0</td>\n",
       "      <td>0</td>\n",
       "      <td>1</td>\n",
       "      <td>7618</td>\n",
       "    </tr>\n",
       "    <tr>\n",
       "      <th>32623</th>\n",
       "      <td>0</td>\n",
       "      <td>123</td>\n",
       "      <td>10</td>\n",
       "      <td>18</td>\n",
       "      <td>2.921928</td>\n",
       "      <td>33</td>\n",
       "      <td>1</td>\n",
       "      <td>0</td>\n",
       "      <td>0</td>\n",
       "      <td>0</td>\n",
       "      <td>...</td>\n",
       "      <td>0</td>\n",
       "      <td>0</td>\n",
       "      <td>0</td>\n",
       "      <td>0</td>\n",
       "      <td>0</td>\n",
       "      <td>0</td>\n",
       "      <td>0</td>\n",
       "      <td>0</td>\n",
       "      <td>0</td>\n",
       "      <td>8597</td>\n",
       "    </tr>\n",
       "    <tr>\n",
       "      <th>34360</th>\n",
       "      <td>0</td>\n",
       "      <td>36</td>\n",
       "      <td>10</td>\n",
       "      <td>0</td>\n",
       "      <td>3.121928</td>\n",
       "      <td>0</td>\n",
       "      <td>1</td>\n",
       "      <td>0</td>\n",
       "      <td>0</td>\n",
       "      <td>0</td>\n",
       "      <td>...</td>\n",
       "      <td>0</td>\n",
       "      <td>0</td>\n",
       "      <td>0</td>\n",
       "      <td>0</td>\n",
       "      <td>0</td>\n",
       "      <td>0</td>\n",
       "      <td>0</td>\n",
       "      <td>0</td>\n",
       "      <td>0</td>\n",
       "      <td>3712</td>\n",
       "    </tr>\n",
       "    <tr>\n",
       "      <th>59547</th>\n",
       "      <td>0</td>\n",
       "      <td>87</td>\n",
       "      <td>17</td>\n",
       "      <td>23</td>\n",
       "      <td>3.337175</td>\n",
       "      <td>46</td>\n",
       "      <td>0</td>\n",
       "      <td>0</td>\n",
       "      <td>0</td>\n",
       "      <td>0</td>\n",
       "      <td>...</td>\n",
       "      <td>0</td>\n",
       "      <td>0</td>\n",
       "      <td>0</td>\n",
       "      <td>0</td>\n",
       "      <td>0</td>\n",
       "      <td>0</td>\n",
       "      <td>0</td>\n",
       "      <td>0</td>\n",
       "      <td>0</td>\n",
       "      <td>1714</td>\n",
       "    </tr>\n",
       "    <tr>\n",
       "      <th>62157</th>\n",
       "      <td>0</td>\n",
       "      <td>20</td>\n",
       "      <td>14</td>\n",
       "      <td>0</td>\n",
       "      <td>3.378783</td>\n",
       "      <td>0</td>\n",
       "      <td>1</td>\n",
       "      <td>0</td>\n",
       "      <td>0</td>\n",
       "      <td>0</td>\n",
       "      <td>...</td>\n",
       "      <td>0</td>\n",
       "      <td>0</td>\n",
       "      <td>0</td>\n",
       "      <td>0</td>\n",
       "      <td>0</td>\n",
       "      <td>0</td>\n",
       "      <td>0</td>\n",
       "      <td>0</td>\n",
       "      <td>0</td>\n",
       "      <td>567</td>\n",
       "    </tr>\n",
       "  </tbody>\n",
       "</table>\n",
       "<p>5 rows × 157 columns</p>\n",
       "</div>"
      ],
      "text/plain": [
       "       isIP  Length  LengthDomain  DigitsCount  EntropyDomain  \\\n",
       "82398     0     147            11           38       3.095795   \n",
       "32623     0     123            10           18       2.921928   \n",
       "34360     0      36            10            0       3.121928   \n",
       "59547     0      87            17           23       3.337175   \n",
       "62157     0      20            14            0       3.378783   \n",
       "\n",
       "       FirstDigitIndex  com  org  net  ru       ...         user  v  video  \\\n",
       "82398               84    1    0    0   0       ...            0  0      0   \n",
       "32623               33    1    0    0   0       ...            0  0      0   \n",
       "34360                0    1    0    0   0       ...            0  0      0   \n",
       "59547               46    0    0    0   0       ...            0  0      0   \n",
       "62157                0    1    0    0   0       ...            0  0      0   \n",
       "\n",
       "       view  web  websc  wiki  wp  www  DurationCreated  \n",
       "82398     0    0      1     0   0    1             7618  \n",
       "32623     0    0      0     0   0    0             8597  \n",
       "34360     0    0      0     0   0    0             3712  \n",
       "59547     0    0      0     0   0    0             1714  \n",
       "62157     0    0      0     0   0    0              567  \n",
       "\n",
       "[5 rows x 157 columns]"
      ]
     },
     "execution_count": 13,
     "metadata": {},
     "output_type": "execute_result"
    }
   ],
   "source": [
    "X.sample(5)"
   ]
  },
  {
   "cell_type": "code",
   "execution_count": 14,
   "metadata": {
    "ExecuteTime": {
     "end_time": "2019-03-06T13:48:31.244513Z",
     "start_time": "2019-03-06T13:48:31.237992Z"
    },
    "run_control": {
     "frozen": false,
     "read_only": false
    }
   },
   "outputs": [
    {
     "data": {
      "text/plain": [
       "58401    1\n",
       "20083    0\n",
       "58135    1\n",
       "17808    0\n",
       "15406    0\n",
       "Name: isMalicious, dtype: int64"
      ]
     },
     "execution_count": 14,
     "metadata": {},
     "output_type": "execute_result"
    }
   ],
   "source": [
    "target.sample(5)"
   ]
  },
  {
   "cell_type": "markdown",
   "metadata": {},
   "source": [
    "### Step 2: Simple Cross-Validation\n",
    "\n",
    "Tasks:\n",
    "- split your feature matrix X and target vector into train and test subsets using sklearn [model_selection.train_test_split](http://scikit-learn.org/stable/modules/generated/sklearn.model_selection.train_test_split.html). Sklearn documentation uses also ```X``` to represent the feature matrix of shape [n_samples, n_features], but ```y``` to represent the labels, which we call ```target``` here of shape [n_samples] or [n_samples, n_outputs]."
   ]
  },
  {
   "cell_type": "code",
   "execution_count": 20,
   "metadata": {
    "ExecuteTime": {
     "end_time": "2019-03-06T13:49:05.985340Z",
     "start_time": "2019-03-06T13:49:05.818754Z"
    },
    "run_control": {
     "frozen": false,
     "read_only": false
    }
   },
   "outputs": [],
   "source": [
    "# Simple Cross-Validation: Split the data set into training and test data\n",
    "X_train, X_test, target_train, target_test = train_test_split(X, target, test_size=0.25)"
   ]
  },
  {
   "cell_type": "markdown",
   "metadata": {},
   "source": [
    "### Step 3: Train the model and make a prediction\n",
    "\n",
    "Finally, we have prepared and segmented the data. Let's start classifying!!   \n",
    "\n",
    "Tasks:\n",
    "\n",
    "-  Use the sklearn [tree.DecisionTreeClassfier()](http://scikit-learn.org/stable/modules/generated/sklearn.tree.DecisionTreeClassifier.html), create a decision tree with standard parameters, and train it using the ```.fit()``` function with ```X_train``` and ```target_train``` data.\n",
    "-  Next, pull a random row from the ```X_test``` array and ```target_test``` vector and see if your classifier got it correct by using the ```.predict()``` function on your classifier with ```test_feature``` as input to this method. When you extract only one random row from the numpy array you'll have to apply ```.reshape(1, -1)``` before passing it into the ```.predict()``` method.\n",
    "\n",
    "If you are interested in trying a real unknown domain, you'll have to create a function to generate the features for that domain before you run it through the classifier (see function ```is_malicious``` a few cells below). "
   ]
  },
  {
   "cell_type": "code",
   "execution_count": 21,
   "metadata": {
    "ExecuteTime": {
     "end_time": "2019-03-06T13:49:34.384467Z",
     "start_time": "2019-03-06T13:49:32.372376Z"
    },
    "run_control": {
     "frozen": false,
     "read_only": false
    }
   },
   "outputs": [
    {
     "name": "stdout",
     "output_type": "stream",
     "text": [
      "Predicted class: [0]\n",
      "Accurate prediction? True\n"
     ]
    }
   ],
   "source": [
    "# Train the decision tree based on the entropy criterion\n",
    "clf = tree.DecisionTreeClassifier()  # clf means classifier\n",
    "clf = clf.fit(X_train, target_train)\n",
    "\n",
    "# Extract a row from the test data\n",
    "i_row = 70\n",
    "test_feature = X_test.iloc[i_row]\n",
    "test_target = target_test.iloc[i_row]\n",
    "\n",
    "# Make the prediction\n",
    "#pred = clf.predict(test_feature.reshape(1, -1))\n",
    "pred = clf.predict(test_feature.values.reshape(1, -1))\n",
    "print('Predicted class:', pred)\n",
    "print('Accurate prediction?', pred[0] == test_target)"
   ]
  },
  {
   "cell_type": "code",
   "execution_count": 22,
   "metadata": {
    "ExecuteTime": {
     "end_time": "2019-03-06T13:13:19.865423Z",
     "start_time": "2019-03-06T13:13:19.861028Z"
    }
   },
   "outputs": [
    {
     "data": {
      "text/plain": [
       "DecisionTreeClassifier(class_weight=None, criterion='gini', max_depth=None,\n",
       "            max_features=None, max_leaf_nodes=None,\n",
       "            min_impurity_decrease=0.0, min_impurity_split=None,\n",
       "            min_samples_leaf=1, min_samples_split=2,\n",
       "            min_weight_fraction_leaf=0.0, presort=False, random_state=None,\n",
       "            splitter='best')"
      ]
     },
     "execution_count": 22,
     "metadata": {},
     "output_type": "execute_result"
    }
   ],
   "source": [
    "clf"
   ]
  },
  {
   "cell_type": "code",
   "execution_count": 23,
   "metadata": {
    "ExecuteTime": {
     "end_time": "2019-03-06T13:50:24.656726Z",
     "start_time": "2019-03-06T13:50:24.650910Z"
    },
    "run_control": {
     "frozen": false,
     "read_only": false
    }
   },
   "outputs": [],
   "source": [
    "# Additional helper functions for is_malicious function\n",
    "def ip_matcher(address):\n",
    "    # Used to validate if string is an ipaddress, currently only IPv4 supported\n",
    "    ip = re.match(\n",
    "        '^(?:(?:25[0-5]|2[0-4][0-9]|[01]?[0-9][0-9]?)\\.){3}(?:25[0-5]|2[0-4][0-9]|[01]?[0-9][0-9]?)$', address)\n",
    "    if ip:\n",
    "        return 1\n",
    "    else:\n",
    "        return 0\n",
    "\n",
    "def strip_http(s):\n",
    "    pattern = re.compile('(http[s]?://)')\n",
    "    clean_url = pattern.sub('', s)\n",
    "    \n",
    "    try:\n",
    "        if clean_url[-1] in ['/']:\n",
    "            clean_url = clean_url[:-1]\n",
    "        if tldextract.extract(clean_url).subdomain:\n",
    "            clean_url = re.sub(tldextract.extract(clean_url).subdomain + '.', '', clean_url)\n",
    "    except:\n",
    "        pass\n",
    "    return clean_url"
   ]
  },
  {
   "cell_type": "code",
   "execution_count": 24,
   "metadata": {
    "ExecuteTime": {
     "end_time": "2019-03-06T13:50:31.864105Z",
     "start_time": "2019-03-06T13:50:27.947214Z"
    },
    "run_control": {
     "frozen": false,
     "read_only": false
    }
   },
   "outputs": [
    {
     "data": {
      "text/html": [
       "<div>\n",
       "<style scoped>\n",
       "    .dataframe tbody tr th:only-of-type {\n",
       "        vertical-align: middle;\n",
       "    }\n",
       "\n",
       "    .dataframe tbody tr th {\n",
       "        vertical-align: top;\n",
       "    }\n",
       "\n",
       "    .dataframe thead th {\n",
       "        text-align: right;\n",
       "    }\n",
       "</style>\n",
       "<table border=\"1\" class=\"dataframe\">\n",
       "  <thead>\n",
       "    <tr style=\"text-align: right;\">\n",
       "      <th></th>\n",
       "      <th>url</th>\n",
       "      <th>created</th>\n",
       "    </tr>\n",
       "  </thead>\n",
       "  <tbody>\n",
       "    <tr>\n",
       "      <th>0</th>\n",
       "      <td>01453.com</td>\n",
       "      <td>2000-02-14 00:00:00</td>\n",
       "    </tr>\n",
       "    <tr>\n",
       "      <th>1</th>\n",
       "      <td>netsolhost.com</td>\n",
       "      <td>2004-09-21 00:00:00</td>\n",
       "    </tr>\n",
       "    <tr>\n",
       "      <th>2</th>\n",
       "      <td>032255.com</td>\n",
       "      <td>2014-08-08 10:58:27</td>\n",
       "    </tr>\n",
       "    <tr>\n",
       "      <th>3</th>\n",
       "      <td>05minute.com</td>\n",
       "      <td>2004-05-21 00:00:00</td>\n",
       "    </tr>\n",
       "    <tr>\n",
       "      <th>4</th>\n",
       "      <td>blogspot.com</td>\n",
       "      <td>2000-07-31 00:00:00</td>\n",
       "    </tr>\n",
       "  </tbody>\n",
       "</table>\n",
       "</div>"
      ],
      "text/plain": [
       "              url             created\n",
       "0       01453.com 2000-02-14 00:00:00\n",
       "1  netsolhost.com 2004-09-21 00:00:00\n",
       "2      032255.com 2014-08-08 10:58:27\n",
       "3    05minute.com 2004-05-21 00:00:00\n",
       "4    blogspot.com 2000-07-31 00:00:00"
      ]
     },
     "execution_count": 24,
     "metadata": {},
     "output_type": "execute_result"
    }
   ],
   "source": [
    "# Load database of creation dates of various unqiue domains from our data set\n",
    "\n",
    "domains_created_db = pd.read_csv(DATA_HOME + 'domains_created_db.csv')\n",
    "domains_created_db.created = pd.to_datetime(domains_created_db.created, errors='coerce')\n",
    "domains_created_db.head()\n"
   ]
  },
  {
   "cell_type": "code",
   "execution_count": 25,
   "metadata": {
    "ExecuteTime": {
     "end_time": "2019-03-06T13:50:33.762846Z",
     "start_time": "2019-03-06T13:50:33.669054Z"
    },
    "run_control": {
     "frozen": false,
     "read_only": false
    }
   },
   "outputs": [],
   "source": [
    "# Load Vectorizer models from part 1\n",
    "from six.moves import cPickle as pickle\n",
    "\n",
    "# Note all functions for feature calcuations need to be again available here to make new predictions on new URLs\n",
    "\n",
    "def custom_path_tokenizer(path):  # input one path from one URL\n",
    "    return list(filter(None, re.compile('[\\?\\=/\\._-]').split(path.lower()))) \n",
    "\n",
    "def extract_path(url):\n",
    "    return re.sub('.'.join([tldextract.extract(url).domain, tldextract.extract(url).suffix]), '', url)\n",
    "\n",
    "def H_entropy (x):\n",
    "    # Calculate Shannon Entropy\n",
    "    return entropy.shannon_entropy(x)\n",
    "\n",
    "def firstDigitIndex( s ):\n",
    "    for i, c in enumerate(s):\n",
    "        if c.isdigit():\n",
    "            return i + 1\n",
    "    return 0\n",
    "\n",
    "models = [\"feature_names\",\"CountVectorizer_tlds\",\"CountVectorizer_domains\",\"CountVectorizer_paths\"]\n",
    "\n",
    "tmp_models = []\n",
    "for key in models:\n",
    "\n",
    "    with open(DATA_HOME + key + '.pickle', 'rb') as f:\n",
    "            tmp_models.append(pickle.load(f))\n",
    "        \n",
    "feature_names = tmp_models[0]\n",
    "CountVectorizer_tlds = tmp_models[1]\n",
    "CountVectorizer_domains = tmp_models[2]\n",
    "CountVectorizer_paths = tmp_models[3]"
   ]
  },
  {
   "cell_type": "code",
   "execution_count": 26,
   "metadata": {
    "ExecuteTime": {
     "end_time": "2019-03-06T13:54:57.182449Z",
     "start_time": "2019-03-06T13:54:57.154958Z"
    },
    "run_control": {
     "frozen": false,
     "read_only": false
    }
   },
   "outputs": [
    {
     "name": "stdout",
     "output_type": "stream",
     "text": [
      "Prediction of domain https://www.google.com\n",
      "is 1 [0 means \"benign\" and 1 \"is malicious\"]: \n"
     ]
    }
   ],
   "source": [
    "def is_malicious(url, clf, feature_names, domains_created_db, CountVectorizer_tlds, CountVectorizer_domains, CountVectorizer_paths):\n",
    "    \"\"\"\n",
    "    INPUT:\n",
    "    - new raw URL string\n",
    "    - trained model/classifiers 'clf'\n",
    "    - feature_names to correctly identify index in numpy array\n",
    "    - domains_created_db: custom database (from .csv file) containing creation date of unique domains of our data set\n",
    "    - trained model CountVectorizer_tlds\n",
    "    - trained model CountVectorizer_domains\n",
    "    - trained model CountVectorizer_paths\n",
    "    \n",
    "    OUTPUT:\n",
    "    - binary prediction (int 0 or 1, where 1 means URL is most likely to be malicious)\n",
    "    \n",
    "    \"\"\"\n",
    "    \n",
    "    # clean raw URL\n",
    "    url = strip_http(url)  # make sure strip_http function is available\n",
    "\n",
    "    # extract portions of URL and retrieve create date from database\n",
    "    domain = tldextract.extract(url).domain\n",
    "    tld = tldextract.extract(url).suffix\n",
    "    path = extract_path(url)  # make sure extract_path function is available\n",
    "    created = domains_created_db.created[domains_created_db.url == '.'.join([domain, tld])]\n",
    "\n",
    "    try:\n",
    "        delta = (pd.to_datetime(datetime.date.today()) - created).dt.days.values[0]\n",
    "    except:\n",
    "        delta = 0\n",
    "    \n",
    "    # initialize numpy array\n",
    "    n_features = len(feature_names)\n",
    "    url_features = np.empty(shape=(1, n_features))\n",
    "    \n",
    "    # lexical features simple\n",
    "    url_features[0, feature_names.index('Length')] = len(url)\n",
    "    url_features[0, feature_names.index('LengthDomain')] = len(domain)\n",
    "    pattern = re.compile('([0-9])')\n",
    "    url_features[0, feature_names.index('DigitsCount')] = len(re.findall(pattern, url))\n",
    "    url_features[0, feature_names.index('EntropyDomain')] = H_entropy(domain)  # make sure H_entropy function is available\n",
    "    url_features[0, feature_names.index('FirstDigitIndex')] = firstDigitIndex(url)  # make sure firstDigitIndex function is available\n",
    "   \n",
    "    # lexical features bag-of-words\n",
    "    new_row_tlds = CountVectorizer_tlds.transform([tld]).toarray()\n",
    "    start = feature_names.index(CountVectorizer_tlds.get_feature_names()[0])\n",
    "    stop = feature_names.index(CountVectorizer_tlds.get_feature_names()[-1])                            \n",
    "    url_features[0, start:stop+1] = new_row_tlds\n",
    "    \n",
    "    new_row_domains = CountVectorizer_domains.transform([domain]).toarray()\n",
    "    start = feature_names.index(CountVectorizer_domains.get_feature_names()[0])\n",
    "    stop = feature_names.index(CountVectorizer_domains.get_feature_names()[-1])                            \n",
    "    url_features[0, start:stop+1] = new_row_domains\n",
    "    \n",
    "    new_row_paths = CountVectorizer_paths.transform([path]).toarray()\n",
    "    start = feature_names.index(CountVectorizer_paths.get_feature_names()[0])\n",
    "    stop = feature_names.index(CountVectorizer_paths.get_feature_names()[-1])                            \n",
    "    url_features[0, start:stop+1] = new_row_paths\n",
    "    \n",
    "    # host-based features\n",
    "    url_features[0, feature_names.index('DurationCreated')] = delta\n",
    "    url_features[0, feature_names.index('isIP')] = ip_matcher(url)\n",
    "    \n",
    "    pred = clf.predict(url_features)\n",
    "    return pred[0]\n",
    "\n",
    "\n",
    "test_URL = 'https://www.google.com'\n",
    "\n",
    "print('Prediction of domain %s\\nis %s [0 means \\\"benign\\\" and 1 \\\"is malicious\\\"]: ' \\\n",
    "%(test_URL, is_malicious(test_URL, clf, feature_names, domains_created_db, CountVectorizer_tlds,\\\n",
    "                         CountVectorizer_domains, CountVectorizer_paths)))  \n",
    "\n",
    "# print('\\nTiming result of new prediction:\\n')\n",
    "# result = %timeit -o is_malicious(test_URL, clf, feature_names, domains_created_db, CountVectorizer_tlds,\\\n",
    "#                          CountVectorizer_domains, CountVectorizer_paths)"
   ]
  },
  {
   "cell_type": "code",
   "execution_count": 28,
   "metadata": {
    "ExecuteTime": {
     "end_time": "2019-03-06T13:56:32.738852Z",
     "start_time": "2019-03-06T13:56:32.718798Z"
    },
    "run_control": {
     "frozen": false,
     "read_only": false
    }
   },
   "outputs": [
    {
     "data": {
      "text/plain": [
       "1"
      ]
     },
     "execution_count": 28,
     "metadata": {},
     "output_type": "execute_result"
    }
   ],
   "source": [
    "#Try it yourself\n",
    "test_URL = \"facebook3423423434234234.com\"\n",
    "is_malicious(test_URL, clf, feature_names, domains_created_db, CountVectorizer_tlds, CountVectorizer_domains, CountVectorizer_paths)"
   ]
  },
  {
   "cell_type": "markdown",
   "metadata": {},
   "source": [
    "### Step 4: Assess model accuracy with simple cross-validation\n",
    "\n",
    "Tasks:\n",
    "- Use sklearn [metrics.accuracy_score](http://scikit-learn.org/stable/modules/generated/sklearn.metrics.accuracy_score.html) to determine your models accuracy. Detailed Instruction:\n",
    "    - Use your trained model to predict the labels of your test data ```X_test```. Run ```.predict()``` method on the clf with your test data ```X_test``` and store the results in a variable called ```target_pred```.. \n",
    "    - Then calculate the accuracy using ```target_test``` (which are the true labels/groundtruth) AND your models predictions on the test portion ```target_pred``` as inputs (in that order ```target_test, target_pred```). The advantage here is to see how your model performs on new data it has not been seen during the training phase.\n",
    "    \n",
    "- Finally print out the confusion matrix using [metrics.confusion_matrix](http://scikit-learn.org/stable/modules/generated/sklearn.metrics.confusion_matrix.html)"
   ]
  },
  {
   "cell_type": "code",
   "execution_count": 46,
   "metadata": {
    "ExecuteTime": {
     "end_time": "2019-03-06T13:57:24.907690Z",
     "start_time": "2019-03-06T13:57:24.832483Z"
    },
    "run_control": {
     "frozen": false,
     "read_only": false
    }
   },
   "outputs": [
    {
     "name": "stdout",
     "output_type": "stream",
     "text": [
      "0.898970016021973\n",
      "Confusion Matrix\n",
      " [[9842 1115]\n",
      " [1092 9796]]\n"
     ]
    }
   ],
   "source": [
    "# fair approach: make prediction on test data portion\n",
    "target_pred = clf.predict(X_test)\n",
    "print(metrics.accuracy_score(target_test, target_pred))\n",
    "print('Confusion Matrix\\n', metrics.confusion_matrix(target_test, target_pred))"
   ]
  },
  {
   "cell_type": "code",
   "execution_count": 43,
   "metadata": {
    "ExecuteTime": {
     "end_time": "2019-02-17T06:47:24.415645Z",
     "start_time": "2019-02-17T06:47:24.176814Z"
    },
    "run_control": {
     "frozen": false,
     "read_only": false
    }
   },
   "outputs": [
    {
     "data": {
      "image/png": "[encoded data removed]",
      "text/plain": [
       "<Figure size 720x576 with 1 Axes>"
      ]
     },
     "metadata": {
      "needs_background": "light"
     },
     "output_type": "display_data"
    }
   ],
   "source": [
    "cm = ConfusionMatrix(clf, classes=[0,1])\n",
    "\n",
    "#Fit fits the passed model. This is unnecessary if you pass the visualizer a pre-fitted model\n",
    "#cm.fit(X_train, target_train)\n",
    "\n",
    "#To create the ConfusionMatrix, we need some test data. Score runs predict() on the data\n",
    "#and then creates the confusion_matrix from scikit learn.\n",
    "cm.score(X_test, target_test)\n",
    "\n",
    "#How did we do?\n",
    "cm.poof()"
   ]
  },
  {
   "cell_type": "code",
   "execution_count": 44,
   "metadata": {
    "ExecuteTime": {
     "end_time": "2019-02-17T06:47:27.025669Z",
     "start_time": "2019-02-17T06:47:26.997404Z"
    },
    "run_control": {
     "frozen": false,
     "read_only": false
    }
   },
   "outputs": [
    {
     "name": "stdout",
     "output_type": "stream",
     "text": [
      "               precision    recall  f1-score   support\n",
      "\n",
      "Not Malicious       0.90      0.90      0.90     10963\n",
      "    Malicious       0.90      0.90      0.90     10882\n",
      "\n",
      "    micro avg       0.90      0.90      0.90     21845\n",
      "    macro avg       0.90      0.90      0.90     21845\n",
      " weighted avg       0.90      0.90      0.90     21845\n",
      "\n"
     ]
    }
   ],
   "source": [
    "# Classification Report...neat summary\n",
    "print(metrics.classification_report(target_test, target_pred, target_names=['Not Malicious', 'Malicious']))"
   ]
  },
  {
   "cell_type": "code",
   "execution_count": 45,
   "metadata": {
    "ExecuteTime": {
     "end_time": "2019-02-17T06:47:30.068812Z",
     "start_time": "2019-02-17T06:47:27.661840Z"
    },
    "run_control": {
     "frozen": false,
     "read_only": false
    }
   },
   "outputs": [
    {
     "data": {
      "image/png": "[encoded data removed]",
      "text/plain": [
       "<Figure size 720x576 with 2 Axes>"
      ]
     },
     "metadata": {
      "needs_background": "light"
     },
     "output_type": "display_data"
    }
   ],
   "source": [
    "visualizer = ClassificationReport(clf, classes=['benign', 'malicious'])\n",
    "\n",
    "visualizer.fit(X_train, target_train)  # Fit the training data to the visualizer\n",
    "visualizer.score(X_test, target_test)  # Evaluate the model on the test data\n",
    "g = visualizer.poof()             # Draw/show/poof the data"
   ]
  },
  {
   "cell_type": "code",
   "execution_count": 46,
   "metadata": {
    "ExecuteTime": {
     "end_time": "2019-02-17T06:47:30.283162Z",
     "start_time": "2019-02-17T06:47:30.248689Z"
    },
    "run_control": {
     "frozen": false,
     "read_only": false
    }
   },
   "outputs": [
    {
     "data": {
      "text/plain": [
       "0.8974593728542001"
      ]
     },
     "execution_count": 46,
     "metadata": {},
     "output_type": "execute_result"
    }
   ],
   "source": [
    "# short-cut\n",
    "clf.score(X_test, target_test)"
   ]
  },
  {
   "cell_type": "code",
   "execution_count": 47,
   "metadata": {
    "ExecuteTime": {
     "end_time": "2019-02-17T06:47:32.783281Z",
     "start_time": "2019-02-17T06:47:30.454345Z"
    },
    "run_control": {
     "frozen": false,
     "read_only": false
    }
   },
   "outputs": [
    {
     "data": {
      "image/png": "[encoded data removed]",
      "text/plain": [
       "<Figure size 720x576 with 1 Axes>"
      ]
     },
     "metadata": {
      "needs_background": "light"
     },
     "output_type": "display_data"
    }
   ],
   "source": [
    "visualizer = ROCAUC(clf)\n",
    "\n",
    "visualizer.fit(X_train, target_train)  # Fit the training data to the visualizer\n",
    "visualizer.score(X_test, target_test)  # Evaluate the model on the test data \n",
    "g = visualizer.poof()  "
   ]
  },
  {
   "cell_type": "markdown",
   "metadata": {},
   "source": [
    "### Step 5: Assess model accuracy with k-fold cross-validation\n",
    "\n",
    "Tasks:\n",
    "- Partition the dataset into *k* different subsets\n",
    "- Create *k* different models by training on *k-1* subsets and testing on the remaining subsets\n",
    "- Measure the performance on each of the models and take the average measure.\n",
    "\n",
    "*Short-Cut*\n",
    "All of these steps can be easily achieved by simply using sklearn's [model_selection.KFold()](http://scikit-learn.org/stable/modules/generated/sklearn.model_selection.KFold.html) and [model_selection.cross_val_score()](http://scikit-learn.org/stable/modules/generated/sklearn.model_selection.cross_val_score.html) functions."
   ]
  },
  {
   "cell_type": "code",
   "execution_count": 48,
   "metadata": {
    "ExecuteTime": {
     "end_time": "2019-02-17T06:47:38.147401Z",
     "start_time": "2019-02-17T06:47:32.976510Z"
    },
    "run_control": {
     "frozen": false,
     "read_only": false
    }
   },
   "outputs": [
    {
     "name": "stdout",
     "output_type": "stream",
     "text": [
      "[0.89309256 0.89229554 0.89349722]\n"
     ]
    }
   ],
   "source": [
    "scores = model_selection.cross_val_score(clf, X, target, cv=3)\n",
    "print(scores)"
   ]
  },
  {
   "cell_type": "code",
   "execution_count": 49,
   "metadata": {
    "ExecuteTime": {
     "end_time": "2019-02-17T06:47:38.333285Z",
     "start_time": "2019-02-17T06:47:38.326539Z"
    },
    "run_control": {
     "frozen": false,
     "read_only": false
    }
   },
   "outputs": [
    {
     "name": "stdout",
     "output_type": "stream",
     "text": [
      "Mean score: 0.893 (+/- 0.000)\n"
     ]
    }
   ],
   "source": [
    "# Get avergage score +- Standard Error (https://docs.scipy.org/doc/scipy/reference/generated/scipy.stats.sem.html)\n",
    "from scipy.stats import sem\n",
    "def mean_score( scores ):\n",
    "    return \"Mean score: {0:.3f} (+/- {1:.3f})\".format( np.mean(scores), sem( scores ))\n",
    "print( mean_score( scores))"
   ]
  },
  {
   "cell_type": "markdown",
   "metadata": {},
   "source": [
    "### Step 6: Get the best predictors\n",
    "\n",
    "Tasks:\n",
    "- Using your fitted clf (here DecisionTreeClassifier) get the attribute [feature\\_importances\\_](http://scikit-learn.org/stable/modules/generated/sklearn.tree.DecisionTreeClassifier.html#sklearn.tree.DecisionTreeClassifier)\n",
    "- Create a new df ```f_imp``` with the column names of your features (not including isMalicious column of original df) and transpose ```f_imp```.\n",
    "- Sort [pd.sort\\_vaues](http://pandas.pydata.org/pandas-docs/stable/generated/pandas.DataFrame.sort_values.html) the new df ```f_imp```."
   ]
  },
  {
   "cell_type": "code",
   "execution_count": 50,
   "metadata": {
    "ExecuteTime": {
     "end_time": "2019-02-17T06:47:38.523978Z",
     "start_time": "2019-02-17T06:47:38.495601Z"
    },
    "run_control": {
     "frozen": false,
     "read_only": false
    }
   },
   "outputs": [
    {
     "data": {
      "text/html": [
       "<div>\n",
       "<style scoped>\n",
       "    .dataframe tbody tr th:only-of-type {\n",
       "        vertical-align: middle;\n",
       "    }\n",
       "\n",
       "    .dataframe tbody tr th {\n",
       "        vertical-align: top;\n",
       "    }\n",
       "\n",
       "    .dataframe thead th {\n",
       "        text-align: right;\n",
       "    }\n",
       "</style>\n",
       "<table border=\"1\" class=\"dataframe\">\n",
       "  <thead>\n",
       "    <tr style=\"text-align: right;\">\n",
       "      <th></th>\n",
       "      <th>0</th>\n",
       "      <th>1</th>\n",
       "    </tr>\n",
       "  </thead>\n",
       "  <tbody>\n",
       "    <tr>\n",
       "      <th>156</th>\n",
       "      <td>0.456788</td>\n",
       "      <td>DurationCreated</td>\n",
       "    </tr>\n",
       "    <tr>\n",
       "      <th>1</th>\n",
       "      <td>0.0737138</td>\n",
       "      <td>Length</td>\n",
       "    </tr>\n",
       "    <tr>\n",
       "      <th>130</th>\n",
       "      <td>0.0582343</td>\n",
       "      <td>php</td>\n",
       "    </tr>\n",
       "    <tr>\n",
       "      <th>4</th>\n",
       "      <td>0.0494417</td>\n",
       "      <td>EntropyDomain</td>\n",
       "    </tr>\n",
       "    <tr>\n",
       "      <th>2</th>\n",
       "      <td>0.0420171</td>\n",
       "      <td>LengthDomain</td>\n",
       "    </tr>\n",
       "    <tr>\n",
       "      <th>5</th>\n",
       "      <td>0.0394767</td>\n",
       "      <td>FirstDigitIndex</td>\n",
       "    </tr>\n",
       "    <tr>\n",
       "      <th>3</th>\n",
       "      <td>0.0357997</td>\n",
       "      <td>DigitsCount</td>\n",
       "    </tr>\n",
       "    <tr>\n",
       "      <th>154</th>\n",
       "      <td>0.0187264</td>\n",
       "      <td>wp</td>\n",
       "    </tr>\n",
       "    <tr>\n",
       "      <th>109</th>\n",
       "      <td>0.0142471</td>\n",
       "      <td>html</td>\n",
       "    </tr>\n",
       "    <tr>\n",
       "      <th>119</th>\n",
       "      <td>0.0111797</td>\n",
       "      <td>login</td>\n",
       "    </tr>\n",
       "    <tr>\n",
       "      <th>112</th>\n",
       "      <td>0.0110423</td>\n",
       "      <td>images</td>\n",
       "    </tr>\n",
       "    <tr>\n",
       "      <th>67</th>\n",
       "      <td>0.00896013</td>\n",
       "      <td>2017</td>\n",
       "    </tr>\n",
       "    <tr>\n",
       "      <th>6</th>\n",
       "      <td>0.00724458</td>\n",
       "      <td>com</td>\n",
       "    </tr>\n",
       "    <tr>\n",
       "      <th>108</th>\n",
       "      <td>0.00678749</td>\n",
       "      <td>htm</td>\n",
       "    </tr>\n",
       "    <tr>\n",
       "      <th>115</th>\n",
       "      <td>0.00645573</td>\n",
       "      <td>index</td>\n",
       "    </tr>\n",
       "    <tr>\n",
       "      <th>116</th>\n",
       "      <td>0.0062343</td>\n",
       "      <td>js</td>\n",
       "    </tr>\n",
       "    <tr>\n",
       "      <th>86</th>\n",
       "      <td>0.00523769</td>\n",
       "      <td>category</td>\n",
       "    </tr>\n",
       "    <tr>\n",
       "      <th>99</th>\n",
       "      <td>0.00511418</td>\n",
       "      <td>exe</td>\n",
       "    </tr>\n",
       "    <tr>\n",
       "      <th>141</th>\n",
       "      <td>0.00462481</td>\n",
       "      <td>tag</td>\n",
       "    </tr>\n",
       "    <tr>\n",
       "      <th>89</th>\n",
       "      <td>0.00401066</td>\n",
       "      <td>com.1</td>\n",
       "    </tr>\n",
       "  </tbody>\n",
       "</table>\n",
       "</div>"
      ],
      "text/plain": [
       "              0                1\n",
       "156    0.456788  DurationCreated\n",
       "1     0.0737138           Length\n",
       "130   0.0582343              php\n",
       "4     0.0494417    EntropyDomain\n",
       "2     0.0420171     LengthDomain\n",
       "5     0.0394767  FirstDigitIndex\n",
       "3     0.0357997      DigitsCount\n",
       "154   0.0187264               wp\n",
       "109   0.0142471             html\n",
       "119   0.0111797            login\n",
       "112   0.0110423           images\n",
       "67   0.00896013             2017\n",
       "6    0.00724458              com\n",
       "108  0.00678749              htm\n",
       "115  0.00645573            index\n",
       "116   0.0062343               js\n",
       "86   0.00523769         category\n",
       "99   0.00511418              exe\n",
       "141  0.00462481              tag\n",
       "89   0.00401066            com.1"
      ]
     },
     "execution_count": 50,
     "metadata": {},
     "output_type": "execute_result"
    }
   ],
   "source": [
    "f_imp = pd.DataFrame([clf.feature_importances_, feature_names]).T.sort_values(0, ascending=False)\n",
    "f_imp.head(20)"
   ]
  },
  {
   "cell_type": "markdown",
   "metadata": {},
   "source": [
    "## Visualizing Feature Importances\n",
    "You can also visualize feature importances "
   ]
  },
  {
   "cell_type": "code",
   "execution_count": 51,
   "metadata": {
    "ExecuteTime": {
     "end_time": "2019-02-17T06:47:38.984361Z",
     "start_time": "2019-02-17T06:47:38.698300Z"
    },
    "run_control": {
     "frozen": false,
     "read_only": false
    }
   },
   "outputs": [
    {
     "data": {
      "image/png": "[encoded data removed]",
      "text/plain": [
       "<Figure size 720x576 with 1 Axes>"
      ]
     },
     "metadata": {
      "needs_background": "light"
     },
     "output_type": "display_data"
    }
   ],
   "source": [
    "skplt.estimators.plot_feature_importances(clf, feature_names=feature_names)\n",
    "plt.show()"
   ]
  },
  {
   "cell_type": "markdown",
   "metadata": {},
   "source": [
    "#### (Optional) Visualizing your Tree\n",
    "As an optional step, you can actually visualize your tree.  The following code will generate a graph of your decision tree.  You will need graphviz (http://www.graphviz.org) and pydotplus (or pydot) installed for this to work.\n",
    "The Griffon VM has this installed already, but if you try this on a Mac, or Linux machine you will need to install graphviz."
   ]
  },
  {
   "cell_type": "code",
   "execution_count": null,
   "metadata": {
    "ExecuteTime": {
     "end_time": "2019-02-17T06:46:55.362011Z",
     "start_time": "2019-02-17T06:46:52.087987Z"
    },
    "run_control": {
     "frozen": false,
     "read_only": false
    }
   },
   "outputs": [],
   "source": [
    "# These libraries are used to visualize the decision tree and require that you have GraphViz\n",
    "# and pydot or pydotplus installed on your computer.\n",
    "\n",
    "from sklearn.externals.six import StringIO  \n",
    "from IPython.core.display import Image\n",
    "import pydotplus as pydot\n",
    "\n",
    "\n",
    "dot_data = StringIO() \n",
    "tree.export_graphviz(clf, out_file=dot_data, \n",
    "                     feature_names=feature_names,\n",
    "                    filled=True, rounded=True,  \n",
    "                    special_characters=True) \n",
    "\n",
    "graph = pydot.graph_from_dot_data(dot_data.getvalue()) \n",
    "Image(graph.create_png())"
   ]
  },
  {
   "cell_type": "code",
   "execution_count": null,
   "metadata": {
    "run_control": {
     "frozen": false,
     "read_only": false
    }
   },
   "outputs": [],
   "source": []
  }
 ],
 "metadata": {
  "kernelspec": {
   "display_name": "Python 3",
   "language": "python",
   "name": "python3"
  },
  "language_info": {
   "codemirror_mode": {
    "name": "ipython",
    "version": 3
   },
   "file_extension": ".py",
   "mimetype": "text/x-python",
   "name": "python",
   "nbconvert_exporter": "python",
   "pygments_lexer": "ipython3",
   "version": "3.7.3"
  },
  "latex_envs": {
   "bibliofile": "biblio.bib",
   "cite_by": "apalike",
   "current_citInitial": 1,
   "eqLabelWithNumbers": true,
   "eqNumInitial": 0
  },
  "toc": {
   "base_numbering": 1,
   "nav_menu": {},
   "number_sections": false,
   "sideBar": false,
   "skip_h1_title": false,
   "title_cell": "Table of Contents",
   "title_sidebar": "Contents",
   "toc_cell": false,
   "toc_position": {},
   "toc_section_display": false,
   "toc_window_display": false
  },
  "varInspector": {
   "cols": {
    "lenName": 16,
    "lenType": 16,
    "lenVar": 40
   },
   "kernels_config": {
    "python": {
     "delete_cmd_postfix": "",
     "delete_cmd_prefix": "del ",
     "library": "var_list.py",
     "varRefreshCmd": "print(var_dic_list())"
    },
    "r": {
     "delete_cmd_postfix": ") ",
     "delete_cmd_prefix": "rm(",
     "library": "var_list.r",
     "varRefreshCmd": "cat(var_dic_list()) "
    }
   },
   "types_to_exclude": [
    "module",
    "function",
    "builtin_function_or_method",
    "instance",
    "_Feature"
   ],
   "window_display": false
  }
 },
 "nbformat": 4,
 "nbformat_minor": 2
}
