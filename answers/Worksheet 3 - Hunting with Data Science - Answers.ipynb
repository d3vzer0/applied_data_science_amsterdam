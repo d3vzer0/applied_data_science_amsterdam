{
 "cells": [
  {
   "cell_type": "markdown",
   "metadata": {},
   "source": [
    "<img src=\"../img/logo_white_bkg_small.png\" align=\"right\" />\n",
    "\n",
    "\n",
    "# Worksheet 3:  Detecting Domain Generation Algorithm (DGA) Domains against DNS ANSWERS\n",
    "This worksheet covers concepts covered in the second half of Module 6 - Hunting with Data Science.  It should take no more than 20-30 minutes to complete.  Please raise your hand if you get stuck.  \n",
    "\n",
    "Your objective is to reduce a dataset that has thousands of domain names and identify those created by DGA.\n",
    "\n",
    "## Import the Libraries\n",
    "For this exercise, we will be using:\n",
    "* Pandas (http://pandas.pydata.org/pandas-docs/stable/)\n",
    "* Flare (https://github.com/austin-taylor/flare)\n",
    "* Json (https://docs.python.org/3/library/json.html)\n",
    "* WHOIS (https://pypi.python.org/pypi/whois)\n",
    "\n",
    "Beacon writeup: <a href=\"http://www.austintaylor.io/detect/beaconing/intrusion/detection/system/command/control/flare/elastic/stack/2017/06/10/detect-beaconing-with-flare-elasticsearch-and-intrusion-detection-systems/\"> Detect Beaconing with Flare, Elastic Stack, and Intrusion Detection Systems</a>"
   ]
  },
  {
   "cell_type": "code",
   "execution_count": null,
   "metadata": {},
   "outputs": [],
   "source": [
    "from flare.data_science.features import entropy\n",
    "from flare.data_science.features import dga_classifier\n",
    "from flare.data_science.features import domain_tld_extract\n",
    "from flare.tools.alexa import Alexa\n",
    "from pandas.io.json import json_normalize\n",
    "from whois import whois\n",
    "import pandas as pd\n",
    "import json\n",
    "import warnings\n",
    "\n",
    "warnings.filterwarnings('ignore')"
   ]
  },
  {
   "cell_type": "markdown",
   "metadata": {},
   "source": [
    "## This is an example of how to generate domain generated algorithms. "
   ]
  },
  {
   "cell_type": "code",
   "execution_count": 27,
   "metadata": {
    "collapsed": true
   },
   "outputs": [],
   "source": [
    "def generate_domain(year, month, day):\n",
    "    \"\"\"Generates a domain name for the given date.\"\"\"\n",
    "    domain = \"\"\n",
    "\n",
    "    for i in range(16):\n",
    "        year = ((year ^ 8 * year) >> 11) ^ ((year & 0xFFFFFFF0) << 17)\n",
    "        month = ((month ^ 4 * month) >> 25) ^ 16 * (month & 0xFFFFFFF8)\n",
    "        day = ((day ^ (day << 13)) >> 19) ^ ((day & 0xFFFFFFFE) << 12)\n",
    "        domain += chr(((year ^ month ^ day) % 25) + 97)\n",
    "\n",
    "    return domain + '.com'"
   ]
  },
  {
   "cell_type": "code",
   "execution_count": 28,
   "metadata": {},
   "outputs": [
    {
     "data": {
      "text/plain": [
       "'vtlfccmfxlkgifuf.com'"
      ]
     },
     "execution_count": 28,
     "metadata": {},
     "output_type": "execute_result"
    }
   ],
   "source": [
    "generate_domain(2017, 6, 23)"
   ]
  },
  {
   "cell_type": "markdown",
   "metadata": {},
   "source": [
    "### A large portion of data science is data preparation. In this exercise, we'll take output from Suricata's eve.json file and extract the DNS records so we can find anything using DGA. "
   ]
  },
  {
   "cell_type": "markdown",
   "metadata": {},
   "source": [
    "First you'll need to **unzip the large_eve_json.zip file** in the data directory and specify the path."
   ]
  },
  {
   "cell_type": "code",
   "execution_count": 29,
   "metadata": {
    "collapsed": true
   },
   "outputs": [],
   "source": [
    "eve_json = '../data/large_eve.json'"
   ]
  },
  {
   "cell_type": "markdown",
   "metadata": {},
   "source": [
    "### Next read the data in and build a list"
   ]
  },
  {
   "cell_type": "code",
   "execution_count": 30,
   "metadata": {
    "collapsed": true
   },
   "outputs": [],
   "source": [
    "all_suricata_data = [json.loads(record) for record in open(eve_json).readlines()]"
   ]
  },
  {
   "cell_type": "code",
   "execution_count": 31,
   "metadata": {},
   "outputs": [
    {
     "data": {
      "text/plain": [
       "746909"
      ]
     },
     "execution_count": 31,
     "metadata": {},
     "output_type": "execute_result"
    }
   ],
   "source": [
    "len(all_suricata_data)"
   ]
  },
  {
   "cell_type": "markdown",
   "metadata": {},
   "source": [
    "### Our output from Suricata has 746909 records, and for we are only interested in DNS records. Let's narrow our data down to records that only contain dns"
   ]
  },
  {
   "cell_type": "markdown",
   "metadata": {},
   "source": [
    "### Read in suricata data and load each record as json if DNS is in the key. This will help pandas json_normalize feature"
   ]
  },
  {
   "cell_type": "code",
   "execution_count": 32,
   "metadata": {
    "collapsed": true
   },
   "outputs": [],
   "source": [
    "dns_records = [json.loads(record) for record in open(eve_json).readlines() if 'dns' in record]"
   ]
  },
  {
   "cell_type": "code",
   "execution_count": 33,
   "metadata": {},
   "outputs": [
    {
     "data": {
      "text/plain": [
       "21484"
      ]
     },
     "execution_count": 33,
     "metadata": {},
     "output_type": "execute_result"
    }
   ],
   "source": [
    "len(dns_records)"
   ]
  },
  {
   "cell_type": "markdown",
   "metadata": {},
   "source": [
    "### Down to 21484 -- much better."
   ]
  },
  {
   "cell_type": "markdown",
   "metadata": {},
   "source": [
    "### Somewhere in our _21484_ records is communication from infected computers. It's up to you to narrow the results down and find the malicious DNS request. "
   ]
  },
  {
   "cell_type": "code",
   "execution_count": 34,
   "metadata": {},
   "outputs": [
    {
     "data": {
      "text/plain": [
       "{'dest_ip': '192.168.207.4',\n",
       " 'dest_port': 53,\n",
       " 'dns': {'id': 54724,\n",
       "  'rrname': 'hpca-tier2.office.aol.com.ad.aol.aoltw.net',\n",
       "  'rrtype': 'A',\n",
       "  'tx_id': 0,\n",
       "  'type': 'query'},\n",
       " 'event_type': 'dns',\n",
       " 'flow_id': 578544790391795,\n",
       " 'pcap_cnt': 54519,\n",
       " 'proto': 'UDP',\n",
       " 'src_ip': '192.168.205.170',\n",
       " 'src_port': 31393,\n",
       " 'timestamp': '2017-07-22T17:33:27.379891-0500',\n",
       " 'vlan': 150}"
      ]
     },
     "execution_count": 34,
     "metadata": {},
     "output_type": "execute_result"
    }
   ],
   "source": [
    "dns_records[2]"
   ]
  },
  {
   "cell_type": "markdown",
   "metadata": {},
   "source": [
    "### The data is nested json and has varying lengths, so you will need to use the json_normalize feature"
   ]
  },
  {
   "cell_type": "code",
   "execution_count": 35,
   "metadata": {
    "collapsed": true
   },
   "outputs": [],
   "source": [
    "suricata_df = json_normalize(dns_records)"
   ]
  },
  {
   "cell_type": "code",
   "execution_count": 36,
   "metadata": {},
   "outputs": [
    {
     "data": {
      "text/plain": [
       "(21484, 163)"
      ]
     },
     "execution_count": 36,
     "metadata": {},
     "output_type": "execute_result"
    }
   ],
   "source": [
    "suricata_df.shape"
   ]
  },
  {
   "cell_type": "code",
   "execution_count": 37,
   "metadata": {},
   "outputs": [
    {
     "data": {
      "text/html": [
       "<div>\n",
       "<style>\n",
       "    .dataframe thead tr:only-child th {\n",
       "        text-align: right;\n",
       "    }\n",
       "\n",
       "    .dataframe thead th {\n",
       "        text-align: left;\n",
       "    }\n",
       "\n",
       "    .dataframe tbody tr th {\n",
       "        vertical-align: top;\n",
       "    }\n",
       "</style>\n",
       "<table border=\"1\" class=\"dataframe\">\n",
       "  <thead>\n",
       "    <tr style=\"text-align: right;\">\n",
       "      <th></th>\n",
       "      <th>app_proto</th>\n",
       "      <th>dest_ip</th>\n",
       "      <th>dest_port</th>\n",
       "      <th>dns.id</th>\n",
       "      <th>dns.rcode</th>\n",
       "      <th>dns.rdata</th>\n",
       "      <th>dns.rrname</th>\n",
       "      <th>dns.rrtype</th>\n",
       "      <th>dns.ttl</th>\n",
       "      <th>dns.tx_id</th>\n",
       "      <th>...</th>\n",
       "      <th>tcp.psh</th>\n",
       "      <th>tcp.rst</th>\n",
       "      <th>tcp.state</th>\n",
       "      <th>tcp.syn</th>\n",
       "      <th>tcp.tcp_flags</th>\n",
       "      <th>tcp.tcp_flags_tc</th>\n",
       "      <th>tcp.tcp_flags_ts</th>\n",
       "      <th>timestamp</th>\n",
       "      <th>tx_id</th>\n",
       "      <th>vlan</th>\n",
       "    </tr>\n",
       "  </thead>\n",
       "  <tbody>\n",
       "    <tr>\n",
       "      <th>0</th>\n",
       "      <td>NaN</td>\n",
       "      <td>2001:0500:0001:0000:0000:0000:803f:0235</td>\n",
       "      <td>53.0</td>\n",
       "      <td>15529.0</td>\n",
       "      <td>NaN</td>\n",
       "      <td>NaN</td>\n",
       "      <td>api.wunderground.com</td>\n",
       "      <td>A</td>\n",
       "      <td>NaN</td>\n",
       "      <td>0.0</td>\n",
       "      <td>...</td>\n",
       "      <td>NaN</td>\n",
       "      <td>NaN</td>\n",
       "      <td>NaN</td>\n",
       "      <td>NaN</td>\n",
       "      <td>NaN</td>\n",
       "      <td>NaN</td>\n",
       "      <td>NaN</td>\n",
       "      <td>2017-07-22T17:33:16.661646-0500</td>\n",
       "      <td>NaN</td>\n",
       "      <td>110.0</td>\n",
       "    </tr>\n",
       "    <tr>\n",
       "      <th>1</th>\n",
       "      <td>NaN</td>\n",
       "      <td>2001:0500:0003:0000:0000:0000:0000:0042</td>\n",
       "      <td>53.0</td>\n",
       "      <td>58278.0</td>\n",
       "      <td>NaN</td>\n",
       "      <td>NaN</td>\n",
       "      <td>stork79.dropbox.com</td>\n",
       "      <td>A</td>\n",
       "      <td>NaN</td>\n",
       "      <td>0.0</td>\n",
       "      <td>...</td>\n",
       "      <td>NaN</td>\n",
       "      <td>NaN</td>\n",
       "      <td>NaN</td>\n",
       "      <td>NaN</td>\n",
       "      <td>NaN</td>\n",
       "      <td>NaN</td>\n",
       "      <td>NaN</td>\n",
       "      <td>2017-07-22T17:33:24.990320-0500</td>\n",
       "      <td>NaN</td>\n",
       "      <td>110.0</td>\n",
       "    </tr>\n",
       "  </tbody>\n",
       "</table>\n",
       "<p>2 rows × 163 columns</p>\n",
       "</div>"
      ],
      "text/plain": [
       "  app_proto                                  dest_ip  dest_port   dns.id  \\\n",
       "0       NaN  2001:0500:0001:0000:0000:0000:803f:0235       53.0  15529.0   \n",
       "1       NaN  2001:0500:0003:0000:0000:0000:0000:0042       53.0  58278.0   \n",
       "\n",
       "  dns.rcode dns.rdata            dns.rrname dns.rrtype  dns.ttl  dns.tx_id  \\\n",
       "0       NaN       NaN  api.wunderground.com          A      NaN        0.0   \n",
       "1       NaN       NaN   stork79.dropbox.com          A      NaN        0.0   \n",
       "\n",
       "   ...   tcp.psh tcp.rst tcp.state tcp.syn  tcp.tcp_flags tcp.tcp_flags_tc  \\\n",
       "0  ...       NaN     NaN       NaN     NaN            NaN              NaN   \n",
       "1  ...       NaN     NaN       NaN     NaN            NaN              NaN   \n",
       "\n",
       "  tcp.tcp_flags_ts                        timestamp  tx_id   vlan  \n",
       "0              NaN  2017-07-22T17:33:16.661646-0500    NaN  110.0  \n",
       "1              NaN  2017-07-22T17:33:24.990320-0500    NaN  110.0  \n",
       "\n",
       "[2 rows x 163 columns]"
      ]
     },
     "execution_count": 37,
     "metadata": {},
     "output_type": "execute_result"
    }
   ],
   "source": [
    "suricata_df.head(2)"
   ]
  },
  {
   "cell_type": "markdown",
   "metadata": {},
   "source": [
    "### Next we need to filter out all A records"
   ]
  },
  {
   "cell_type": "code",
   "execution_count": 38,
   "metadata": {
    "collapsed": true
   },
   "outputs": [],
   "source": [
    "a_records = suricata_df[suricata_df['dns.rrtype']==('A')][['dns.rrname','dns.rrtype']]"
   ]
  },
  {
   "cell_type": "code",
   "execution_count": 39,
   "metadata": {},
   "outputs": [
    {
     "data": {
      "text/plain": [
       "(2849, 2)"
      ]
     },
     "execution_count": 39,
     "metadata": {},
     "output_type": "execute_result"
    }
   ],
   "source": [
    "a_records.shape"
   ]
  },
  {
   "cell_type": "markdown",
   "metadata": {},
   "source": [
    "### By filtering out the A records, our dataset is down to 2849."
   ]
  },
  {
   "cell_type": "code",
   "execution_count": 40,
   "metadata": {},
   "outputs": [
    {
     "data": {
      "text/plain": [
       "stork79.dropbox.com                312\n",
       "versioncheck.addons.mozilla.org    120\n",
       "safebrowsing.clients.google.com     95\n",
       "centos.mirror.facebook.net          84\n",
       "mirror.team-cymru.org               84\n",
       "Name: dns.rrname, dtype: int64"
      ]
     },
     "execution_count": 40,
     "metadata": {},
     "output_type": "execute_result"
    }
   ],
   "source": [
    "a_records['dns.rrname'].value_counts().head()"
   ]
  },
  {
   "cell_type": "markdown",
   "metadata": {},
   "source": [
    "### Next we can figure out how many unique DNS names there are."
   ]
  },
  {
   "cell_type": "code",
   "execution_count": 41,
   "metadata": {
    "collapsed": true
   },
   "outputs": [],
   "source": [
    "a_records_unique = pd.DataFrame(a_records['dns.rrname'].unique(), columns=['dns_rrname'])"
   ]
  },
  {
   "cell_type": "code",
   "execution_count": 42,
   "metadata": {},
   "outputs": [
    {
     "data": {
      "text/plain": [
       "177"
      ]
     },
     "execution_count": 42,
     "metadata": {},
     "output_type": "execute_result"
    }
   ],
   "source": [
    "len(a_records_unique)"
   ]
  },
  {
   "cell_type": "markdown",
   "metadata": {},
   "source": [
    "### Down to 177 records to process!"
   ]
  },
  {
   "cell_type": "code",
   "execution_count": 43,
   "metadata": {},
   "outputs": [
    {
     "data": {
      "text/html": [
       "<div>\n",
       "<style>\n",
       "    .dataframe thead tr:only-child th {\n",
       "        text-align: right;\n",
       "    }\n",
       "\n",
       "    .dataframe thead th {\n",
       "        text-align: left;\n",
       "    }\n",
       "\n",
       "    .dataframe tbody tr th {\n",
       "        vertical-align: top;\n",
       "    }\n",
       "</style>\n",
       "<table border=\"1\" class=\"dataframe\">\n",
       "  <thead>\n",
       "    <tr style=\"text-align: right;\">\n",
       "      <th></th>\n",
       "      <th>dns_rrname</th>\n",
       "    </tr>\n",
       "  </thead>\n",
       "  <tbody>\n",
       "    <tr>\n",
       "      <th>0</th>\n",
       "      <td>api.wunderground.com</td>\n",
       "    </tr>\n",
       "    <tr>\n",
       "      <th>1</th>\n",
       "      <td>stork79.dropbox.com</td>\n",
       "    </tr>\n",
       "    <tr>\n",
       "      <th>2</th>\n",
       "      <td>hpca-tier2.office.aol.com.ad.aol.aoltw.net</td>\n",
       "    </tr>\n",
       "    <tr>\n",
       "      <th>3</th>\n",
       "      <td>safebrowsing.clients.google.com.home</td>\n",
       "    </tr>\n",
       "    <tr>\n",
       "      <th>4</th>\n",
       "      <td>fxfeeds.mozilla.com</td>\n",
       "    </tr>\n",
       "  </tbody>\n",
       "</table>\n",
       "</div>"
      ],
      "text/plain": [
       "                                   dns_rrname\n",
       "0                        api.wunderground.com\n",
       "1                         stork79.dropbox.com\n",
       "2  hpca-tier2.office.aol.com.ad.aol.aoltw.net\n",
       "3        safebrowsing.clients.google.com.home\n",
       "4                         fxfeeds.mozilla.com"
      ]
     },
     "execution_count": 43,
     "metadata": {},
     "output_type": "execute_result"
    }
   ],
   "source": [
    "a_records_unique.head()"
   ]
  },
  {
   "cell_type": "markdown",
   "metadata": {},
   "source": [
    "### Next we need to train extract the top level domains (remove subdomains) using flare so we can feed it to our classifier"
   ]
  },
  {
   "cell_type": "code",
   "execution_count": 44,
   "metadata": {
    "collapsed": true
   },
   "outputs": [],
   "source": [
    "a_records_unique['domain_tld'] = a_records_unique.dns_rrname.apply(domain_tld_extract)"
   ]
  },
  {
   "cell_type": "code",
   "execution_count": 45,
   "metadata": {},
   "outputs": [
    {
     "data": {
      "text/html": [
       "<div>\n",
       "<style>\n",
       "    .dataframe thead tr:only-child th {\n",
       "        text-align: right;\n",
       "    }\n",
       "\n",
       "    .dataframe thead th {\n",
       "        text-align: left;\n",
       "    }\n",
       "\n",
       "    .dataframe tbody tr th {\n",
       "        vertical-align: top;\n",
       "    }\n",
       "</style>\n",
       "<table border=\"1\" class=\"dataframe\">\n",
       "  <thead>\n",
       "    <tr style=\"text-align: right;\">\n",
       "      <th></th>\n",
       "      <th>dns_rrname</th>\n",
       "      <th>domain_tld</th>\n",
       "    </tr>\n",
       "  </thead>\n",
       "  <tbody>\n",
       "    <tr>\n",
       "      <th>0</th>\n",
       "      <td>api.wunderground.com</td>\n",
       "      <td>wunderground.com</td>\n",
       "    </tr>\n",
       "    <tr>\n",
       "      <th>1</th>\n",
       "      <td>stork79.dropbox.com</td>\n",
       "      <td>dropbox.com</td>\n",
       "    </tr>\n",
       "    <tr>\n",
       "      <th>2</th>\n",
       "      <td>hpca-tier2.office.aol.com.ad.aol.aoltw.net</td>\n",
       "      <td>aoltw.net</td>\n",
       "    </tr>\n",
       "    <tr>\n",
       "      <th>3</th>\n",
       "      <td>safebrowsing.clients.google.com.home</td>\n",
       "      <td>com.home</td>\n",
       "    </tr>\n",
       "    <tr>\n",
       "      <th>4</th>\n",
       "      <td>fxfeeds.mozilla.com</td>\n",
       "      <td>mozilla.com</td>\n",
       "    </tr>\n",
       "  </tbody>\n",
       "</table>\n",
       "</div>"
      ],
      "text/plain": [
       "                                   dns_rrname        domain_tld\n",
       "0                        api.wunderground.com  wunderground.com\n",
       "1                         stork79.dropbox.com       dropbox.com\n",
       "2  hpca-tier2.office.aol.com.ad.aol.aoltw.net         aoltw.net\n",
       "3        safebrowsing.clients.google.com.home          com.home\n",
       "4                         fxfeeds.mozilla.com       mozilla.com"
      ]
     },
     "execution_count": 45,
     "metadata": {},
     "output_type": "execute_result"
    }
   ],
   "source": [
    "a_records_unique.head()"
   ]
  },
  {
   "cell_type": "markdown",
   "metadata": {},
   "source": [
    "### Train DGA Classifier with dictionary words, n-grams and DGA Domains"
   ]
  },
  {
   "cell_type": "code",
   "execution_count": 46,
   "metadata": {},
   "outputs": [
    {
     "name": "stdout",
     "output_type": "stream",
     "text": [
      "[*] Initializing... training classifier - Please wait.\n",
      "[+] Classifier Ready\n"
     ]
    }
   ],
   "source": [
    "dga_predictor = dga_classifier()"
   ]
  },
  {
   "cell_type": "code",
   "execution_count": 47,
   "metadata": {
    "collapsed": true
   },
   "outputs": [],
   "source": [
    "a_records_unique['dga_predict'] = a_records_unique.domain_tld.apply(lambda x: dga_predictor.predict(x))"
   ]
  },
  {
   "cell_type": "markdown",
   "metadata": {},
   "source": [
    "### A quick sampling of the data shows our prediction has labelled our data. "
   ]
  },
  {
   "cell_type": "code",
   "execution_count": 48,
   "metadata": {},
   "outputs": [
    {
     "data": {
      "text/html": [
       "<div>\n",
       "<style>\n",
       "    .dataframe thead tr:only-child th {\n",
       "        text-align: right;\n",
       "    }\n",
       "\n",
       "    .dataframe thead th {\n",
       "        text-align: left;\n",
       "    }\n",
       "\n",
       "    .dataframe tbody tr th {\n",
       "        vertical-align: top;\n",
       "    }\n",
       "</style>\n",
       "<table border=\"1\" class=\"dataframe\">\n",
       "  <thead>\n",
       "    <tr style=\"text-align: right;\">\n",
       "      <th></th>\n",
       "      <th>dns_rrname</th>\n",
       "      <th>domain_tld</th>\n",
       "      <th>dga_predict</th>\n",
       "    </tr>\n",
       "  </thead>\n",
       "  <tbody>\n",
       "    <tr>\n",
       "      <th>107</th>\n",
       "      <td>mirror.hmc.edu</td>\n",
       "      <td>hmc.edu</td>\n",
       "      <td>legit</td>\n",
       "    </tr>\n",
       "    <tr>\n",
       "      <th>76</th>\n",
       "      <td>download.windowsupdate.com</td>\n",
       "      <td>windowsupdate.com</td>\n",
       "      <td>legit</td>\n",
       "    </tr>\n",
       "    <tr>\n",
       "      <th>93</th>\n",
       "      <td>mirror.its.uidaho.edu</td>\n",
       "      <td>uidaho.edu</td>\n",
       "      <td>legit</td>\n",
       "    </tr>\n",
       "    <tr>\n",
       "      <th>106</th>\n",
       "      <td>mirrors.kernel.org</td>\n",
       "      <td>kernel.org</td>\n",
       "      <td>legit</td>\n",
       "    </tr>\n",
       "    <tr>\n",
       "      <th>176</th>\n",
       "      <td>client-software.real.com</td>\n",
       "      <td>real.com</td>\n",
       "      <td>legit</td>\n",
       "    </tr>\n",
       "    <tr>\n",
       "      <th>129</th>\n",
       "      <td>cloud.xmarks.com</td>\n",
       "      <td>xmarks.com</td>\n",
       "      <td>legit</td>\n",
       "    </tr>\n",
       "    <tr>\n",
       "      <th>126</th>\n",
       "      <td>FL</td>\n",
       "      <td>FL</td>\n",
       "      <td>legit</td>\n",
       "    </tr>\n",
       "    <tr>\n",
       "      <th>91</th>\n",
       "      <td>google.com</td>\n",
       "      <td>google.com</td>\n",
       "      <td>legit</td>\n",
       "    </tr>\n",
       "    <tr>\n",
       "      <th>83</th>\n",
       "      <td>api.facebook.com</td>\n",
       "      <td>facebook.com</td>\n",
       "      <td>legit</td>\n",
       "    </tr>\n",
       "    <tr>\n",
       "      <th>82</th>\n",
       "      <td>www.malwarecity.com</td>\n",
       "      <td>malwarecity.com</td>\n",
       "      <td>legit</td>\n",
       "    </tr>\n",
       "  </tbody>\n",
       "</table>\n",
       "</div>"
      ],
      "text/plain": [
       "                     dns_rrname         domain_tld dga_predict\n",
       "107              mirror.hmc.edu            hmc.edu       legit\n",
       "76   download.windowsupdate.com  windowsupdate.com       legit\n",
       "93        mirror.its.uidaho.edu         uidaho.edu       legit\n",
       "106          mirrors.kernel.org         kernel.org       legit\n",
       "176    client-software.real.com           real.com       legit\n",
       "129            cloud.xmarks.com         xmarks.com       legit\n",
       "126                          FL                 FL       legit\n",
       "91                   google.com         google.com       legit\n",
       "83             api.facebook.com       facebook.com       legit\n",
       "82          www.malwarecity.com    malwarecity.com       legit"
      ]
     },
     "execution_count": 48,
     "metadata": {},
     "output_type": "execute_result"
    }
   ],
   "source": [
    "a_records_unique.sample(10)"
   ]
  },
  {
   "cell_type": "code",
   "execution_count": 49,
   "metadata": {
    "collapsed": true
   },
   "outputs": [],
   "source": [
    "dga_df = a_records_unique[a_records_unique.dga_predict=='dga']"
   ]
  },
  {
   "cell_type": "code",
   "execution_count": 50,
   "metadata": {},
   "outputs": [
    {
     "data": {
      "text/html": [
       "<div>\n",
       "<style>\n",
       "    .dataframe thead tr:only-child th {\n",
       "        text-align: right;\n",
       "    }\n",
       "\n",
       "    .dataframe thead th {\n",
       "        text-align: left;\n",
       "    }\n",
       "\n",
       "    .dataframe tbody tr th {\n",
       "        vertical-align: top;\n",
       "    }\n",
       "</style>\n",
       "<table border=\"1\" class=\"dataframe\">\n",
       "  <thead>\n",
       "    <tr style=\"text-align: right;\">\n",
       "      <th></th>\n",
       "      <th>dns_rrname</th>\n",
       "      <th>domain_tld</th>\n",
       "      <th>dga_predict</th>\n",
       "    </tr>\n",
       "  </thead>\n",
       "  <tbody>\n",
       "    <tr>\n",
       "      <th>144</th>\n",
       "      <td>dns.msftncsi.com</td>\n",
       "      <td>msftncsi.com</td>\n",
       "      <td>dga</td>\n",
       "    </tr>\n",
       "    <tr>\n",
       "      <th>147</th>\n",
       "      <td>www.msftncsi.com</td>\n",
       "      <td>msftncsi.com</td>\n",
       "      <td>dga</td>\n",
       "    </tr>\n",
       "    <tr>\n",
       "      <th>160</th>\n",
       "      <td>vtlfccmfxlkgifuf.com</td>\n",
       "      <td>vtlfccmfxlkgifuf.com</td>\n",
       "      <td>dga</td>\n",
       "    </tr>\n",
       "    <tr>\n",
       "      <th>167</th>\n",
       "      <td>ejfodfmfxlkgifuf.xyz</td>\n",
       "      <td>ejfodfmfxlkgifuf.xyz</td>\n",
       "      <td>dga</td>\n",
       "    </tr>\n",
       "  </tbody>\n",
       "</table>\n",
       "</div>"
      ],
      "text/plain": [
       "               dns_rrname            domain_tld dga_predict\n",
       "144      dns.msftncsi.com          msftncsi.com         dga\n",
       "147      www.msftncsi.com          msftncsi.com         dga\n",
       "160  vtlfccmfxlkgifuf.com  vtlfccmfxlkgifuf.com         dga\n",
       "167  ejfodfmfxlkgifuf.xyz  ejfodfmfxlkgifuf.xyz         dga"
      ]
     },
     "execution_count": 50,
     "metadata": {},
     "output_type": "execute_result"
    }
   ],
   "source": [
    "dga_df"
   ]
  },
  {
   "cell_type": "markdown",
   "metadata": {},
   "source": [
    "### Our dataset is down to 5 results! Let's run the domains through alexa to see if ny are in the top 1 million"
   ]
  },
  {
   "cell_type": "code",
   "execution_count": 51,
   "metadata": {
    "collapsed": true
   },
   "outputs": [],
   "source": [
    "alexa = Alexa()"
   ]
  },
  {
   "cell_type": "code",
   "execution_count": 52,
   "metadata": {
    "collapsed": true
   },
   "outputs": [],
   "source": [
    "dga_df['in_alexa'] = dga_df.dns_rrname.apply(alexa.domain_in_alexa)"
   ]
  },
  {
   "cell_type": "code",
   "execution_count": 53,
   "metadata": {
    "collapsed": true
   },
   "outputs": [],
   "source": [
    "def get_creation_date(domain):\n",
    "    try:\n",
    "        lookup = whois(domain)\n",
    "        output = lookup.get('creation_date','No results')\n",
    "    except:\n",
    "        output = 'No Creation Date!'\n",
    "    if output is None:\n",
    "        output = 'No Creation Date!'\n",
    "    return output"
   ]
  },
  {
   "cell_type": "code",
   "execution_count": 54,
   "metadata": {},
   "outputs": [
    {
     "data": {
      "text/plain": [
       "datetime.datetime(1997, 9, 15, 0, 0)"
      ]
     },
     "execution_count": 54,
     "metadata": {},
     "output_type": "execute_result"
    }
   ],
   "source": [
    "get_creation_date('google.com')"
   ]
  },
  {
   "cell_type": "code",
   "execution_count": 55,
   "metadata": {
    "scrolled": true
   },
   "outputs": [
    {
     "data": {
      "text/html": [
       "<div>\n",
       "<style>\n",
       "    .dataframe thead tr:only-child th {\n",
       "        text-align: right;\n",
       "    }\n",
       "\n",
       "    .dataframe thead th {\n",
       "        text-align: left;\n",
       "    }\n",
       "\n",
       "    .dataframe tbody tr th {\n",
       "        vertical-align: top;\n",
       "    }\n",
       "</style>\n",
       "<table border=\"1\" class=\"dataframe\">\n",
       "  <thead>\n",
       "    <tr style=\"text-align: right;\">\n",
       "      <th></th>\n",
       "      <th>dns_rrname</th>\n",
       "      <th>domain_tld</th>\n",
       "      <th>dga_predict</th>\n",
       "      <th>in_alexa</th>\n",
       "    </tr>\n",
       "  </thead>\n",
       "  <tbody>\n",
       "    <tr>\n",
       "      <th>144</th>\n",
       "      <td>dns.msftncsi.com</td>\n",
       "      <td>msftncsi.com</td>\n",
       "      <td>dga</td>\n",
       "      <td>False</td>\n",
       "    </tr>\n",
       "    <tr>\n",
       "      <th>147</th>\n",
       "      <td>www.msftncsi.com</td>\n",
       "      <td>msftncsi.com</td>\n",
       "      <td>dga</td>\n",
       "      <td>False</td>\n",
       "    </tr>\n",
       "    <tr>\n",
       "      <th>160</th>\n",
       "      <td>vtlfccmfxlkgifuf.com</td>\n",
       "      <td>vtlfccmfxlkgifuf.com</td>\n",
       "      <td>dga</td>\n",
       "      <td>False</td>\n",
       "    </tr>\n",
       "    <tr>\n",
       "      <th>167</th>\n",
       "      <td>ejfodfmfxlkgifuf.xyz</td>\n",
       "      <td>ejfodfmfxlkgifuf.xyz</td>\n",
       "      <td>dga</td>\n",
       "      <td>False</td>\n",
       "    </tr>\n",
       "  </tbody>\n",
       "</table>\n",
       "</div>"
      ],
      "text/plain": [
       "               dns_rrname            domain_tld dga_predict  in_alexa\n",
       "144      dns.msftncsi.com          msftncsi.com         dga     False\n",
       "147      www.msftncsi.com          msftncsi.com         dga     False\n",
       "160  vtlfccmfxlkgifuf.com  vtlfccmfxlkgifuf.com         dga     False\n",
       "167  ejfodfmfxlkgifuf.xyz  ejfodfmfxlkgifuf.xyz         dga     False"
      ]
     },
     "execution_count": 55,
     "metadata": {},
     "output_type": "execute_result"
    }
   ],
   "source": [
    "dga_df"
   ]
  },
  {
   "cell_type": "markdown",
   "metadata": {},
   "source": [
    "### It appears none of our domains are in Alexa, but let's check creation dates."
   ]
  },
  {
   "cell_type": "code",
   "execution_count": 56,
   "metadata": {
    "collapsed": true
   },
   "outputs": [],
   "source": [
    "dga_df['creation_date'] = dga_df.dns_rrname.apply(get_creation_date)"
   ]
  },
  {
   "cell_type": "code",
   "execution_count": 57,
   "metadata": {},
   "outputs": [
    {
     "data": {
      "text/html": [
       "<div>\n",
       "<style>\n",
       "    .dataframe thead tr:only-child th {\n",
       "        text-align: right;\n",
       "    }\n",
       "\n",
       "    .dataframe thead th {\n",
       "        text-align: left;\n",
       "    }\n",
       "\n",
       "    .dataframe tbody tr th {\n",
       "        vertical-align: top;\n",
       "    }\n",
       "</style>\n",
       "<table border=\"1\" class=\"dataframe\">\n",
       "  <thead>\n",
       "    <tr style=\"text-align: right;\">\n",
       "      <th></th>\n",
       "      <th>dns_rrname</th>\n",
       "      <th>domain_tld</th>\n",
       "      <th>dga_predict</th>\n",
       "      <th>in_alexa</th>\n",
       "      <th>creation_date</th>\n",
       "    </tr>\n",
       "  </thead>\n",
       "  <tbody>\n",
       "    <tr>\n",
       "      <th>144</th>\n",
       "      <td>dns.msftncsi.com</td>\n",
       "      <td>msftncsi.com</td>\n",
       "      <td>dga</td>\n",
       "      <td>False</td>\n",
       "      <td>[2005-11-10 00:00:00, 2005-11-10 22:06:51]</td>\n",
       "    </tr>\n",
       "    <tr>\n",
       "      <th>147</th>\n",
       "      <td>www.msftncsi.com</td>\n",
       "      <td>msftncsi.com</td>\n",
       "      <td>dga</td>\n",
       "      <td>False</td>\n",
       "      <td>[2005-11-10 00:00:00, 2005-11-10 22:06:51]</td>\n",
       "    </tr>\n",
       "    <tr>\n",
       "      <th>160</th>\n",
       "      <td>vtlfccmfxlkgifuf.com</td>\n",
       "      <td>vtlfccmfxlkgifuf.com</td>\n",
       "      <td>dga</td>\n",
       "      <td>False</td>\n",
       "      <td>No Creation Date!</td>\n",
       "    </tr>\n",
       "    <tr>\n",
       "      <th>167</th>\n",
       "      <td>ejfodfmfxlkgifuf.xyz</td>\n",
       "      <td>ejfodfmfxlkgifuf.xyz</td>\n",
       "      <td>dga</td>\n",
       "      <td>False</td>\n",
       "      <td>No Creation Date!</td>\n",
       "    </tr>\n",
       "  </tbody>\n",
       "</table>\n",
       "</div>"
      ],
      "text/plain": [
       "               dns_rrname            domain_tld dga_predict  in_alexa  \\\n",
       "144      dns.msftncsi.com          msftncsi.com         dga     False   \n",
       "147      www.msftncsi.com          msftncsi.com         dga     False   \n",
       "160  vtlfccmfxlkgifuf.com  vtlfccmfxlkgifuf.com         dga     False   \n",
       "167  ejfodfmfxlkgifuf.xyz  ejfodfmfxlkgifuf.xyz         dga     False   \n",
       "\n",
       "                                  creation_date  \n",
       "144  [2005-11-10 00:00:00, 2005-11-10 22:06:51]  \n",
       "147  [2005-11-10 00:00:00, 2005-11-10 22:06:51]  \n",
       "160                           No Creation Date!  \n",
       "167                           No Creation Date!  "
      ]
     },
     "execution_count": 57,
     "metadata": {},
     "output_type": "execute_result"
    }
   ],
   "source": [
    "dga_df"
   ]
  },
  {
   "cell_type": "markdown",
   "metadata": {},
   "source": [
    "### Ah-ha! We have identified 2 domains with no creation_date. The other domains appear to be fairly well established. You have successfully identified 2 the domains created with DGA!"
   ]
  },
  {
   "cell_type": "code",
   "execution_count": null,
   "metadata": {
    "collapsed": true
   },
   "outputs": [],
   "source": []
  }
 ],
 "metadata": {
  "kernelspec": {
   "display_name": "Python 3",
   "language": "python",
   "name": "python3"
  },
  "language_info": {
   "codemirror_mode": {
    "name": "ipython",
    "version": 3
   },
   "file_extension": ".py",
   "mimetype": "text/x-python",
   "name": "python",
   "nbconvert_exporter": "python",
   "pygments_lexer": "ipython3",
   "version": "3.6.5"
  }
 },
 "nbformat": 4,
 "nbformat_minor": 2
}
